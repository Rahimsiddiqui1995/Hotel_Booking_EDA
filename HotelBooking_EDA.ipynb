{
 "cells": [
  {
   "cell_type": "markdown",
   "id": "2ab71d93",
   "metadata": {},
   "source": [
    "# Have you ever wondered when the best time of year to book a hotel room is? Or the optimal length of stay in order to get the best daily rate? What if you wanted to predict whether or not a hotel was likely to receive a disproportionately high number of special requests? \n",
    "# This hotel booking dataset can help you explore those questions! This data set contains booking information for a city hotel and a resort hotel, and includes information such as when the booking was made, length of stay, the number of adults, children, and/or babies, and the number of available parking spaces, among other things. All personally identifying information has been removed from the data.\n",
    "**Explore and analyze the data to discover important factors that govern the bookings.**\n",
    "\n",
    "Tourism is a thriving industry. In today's world people are willing to spend more and more to explore places and get unique experiences.\n",
    "\n",
    "One closely related industry is \"__Hotel Industry__\". Hotels majorly depend on vacation travellers and business travellers.\n",
    "\n",
    "The prices in a hotel may vary based on the time of the year, demand, length of stay, number of occupants, etc.\n",
    "\n",
    "What if we could guess the best time or duration to book a hotel room at **cheapest rates**???\n",
    "\n",
    "What if hoteliers could guess when the demands for their hotels are likely to increase and when the demands would be low??? They could optimize their funds so much better.\n",
    "\n",
    "## Let's dive into this data to see how many questions can we answer."
   ]
  },
  {
   "cell_type": "code",
   "execution_count": 7,
   "id": "d64e54c5",
   "metadata": {},
   "outputs": [],
   "source": [
    "#Importing Data and macro analysis of the dataframe\n",
    "#Importing libraries\n",
    "\n",
    "import pandas as pd\n",
    "import numpy as np\n",
    "from matplotlib import pyplot as plt\n",
    "import seaborn as sns"
   ]
  },
  {
   "cell_type": "code",
   "execution_count": 8,
   "id": "d87481d8",
   "metadata": {},
   "outputs": [
    {
     "data": {
      "text/html": [
       "<div>\n",
       "<style scoped>\n",
       "    .dataframe tbody tr th:only-of-type {\n",
       "        vertical-align: middle;\n",
       "    }\n",
       "\n",
       "    .dataframe tbody tr th {\n",
       "        vertical-align: top;\n",
       "    }\n",
       "\n",
       "    .dataframe thead th {\n",
       "        text-align: right;\n",
       "    }\n",
       "</style>\n",
       "<table border=\"1\" class=\"dataframe\">\n",
       "  <thead>\n",
       "    <tr style=\"text-align: right;\">\n",
       "      <th></th>\n",
       "      <th>hotel</th>\n",
       "      <th>is_canceled</th>\n",
       "      <th>lead_time</th>\n",
       "      <th>arrival_date_year</th>\n",
       "      <th>arrival_date_month</th>\n",
       "      <th>arrival_date_week_number</th>\n",
       "      <th>arrival_date_day_of_month</th>\n",
       "      <th>stays_in_weekend_nights</th>\n",
       "      <th>stays_in_week_nights</th>\n",
       "      <th>adults</th>\n",
       "      <th>...</th>\n",
       "      <th>deposit_type</th>\n",
       "      <th>agent</th>\n",
       "      <th>company</th>\n",
       "      <th>days_in_waiting_list</th>\n",
       "      <th>customer_type</th>\n",
       "      <th>adr</th>\n",
       "      <th>required_car_parking_spaces</th>\n",
       "      <th>total_of_special_requests</th>\n",
       "      <th>reservation_status</th>\n",
       "      <th>reservation_status_date</th>\n",
       "    </tr>\n",
       "  </thead>\n",
       "  <tbody>\n",
       "    <tr>\n",
       "      <th>0</th>\n",
       "      <td>Resort Hotel</td>\n",
       "      <td>0</td>\n",
       "      <td>342</td>\n",
       "      <td>2015</td>\n",
       "      <td>July</td>\n",
       "      <td>27</td>\n",
       "      <td>1</td>\n",
       "      <td>0</td>\n",
       "      <td>0</td>\n",
       "      <td>2</td>\n",
       "      <td>...</td>\n",
       "      <td>No Deposit</td>\n",
       "      <td>NaN</td>\n",
       "      <td>NaN</td>\n",
       "      <td>0</td>\n",
       "      <td>Transient</td>\n",
       "      <td>0.0</td>\n",
       "      <td>0</td>\n",
       "      <td>0</td>\n",
       "      <td>Check-Out</td>\n",
       "      <td>2015-07-01</td>\n",
       "    </tr>\n",
       "    <tr>\n",
       "      <th>1</th>\n",
       "      <td>Resort Hotel</td>\n",
       "      <td>0</td>\n",
       "      <td>737</td>\n",
       "      <td>2015</td>\n",
       "      <td>July</td>\n",
       "      <td>27</td>\n",
       "      <td>1</td>\n",
       "      <td>0</td>\n",
       "      <td>0</td>\n",
       "      <td>2</td>\n",
       "      <td>...</td>\n",
       "      <td>No Deposit</td>\n",
       "      <td>NaN</td>\n",
       "      <td>NaN</td>\n",
       "      <td>0</td>\n",
       "      <td>Transient</td>\n",
       "      <td>0.0</td>\n",
       "      <td>0</td>\n",
       "      <td>0</td>\n",
       "      <td>Check-Out</td>\n",
       "      <td>2015-07-01</td>\n",
       "    </tr>\n",
       "    <tr>\n",
       "      <th>2</th>\n",
       "      <td>Resort Hotel</td>\n",
       "      <td>0</td>\n",
       "      <td>7</td>\n",
       "      <td>2015</td>\n",
       "      <td>July</td>\n",
       "      <td>27</td>\n",
       "      <td>1</td>\n",
       "      <td>0</td>\n",
       "      <td>1</td>\n",
       "      <td>1</td>\n",
       "      <td>...</td>\n",
       "      <td>No Deposit</td>\n",
       "      <td>NaN</td>\n",
       "      <td>NaN</td>\n",
       "      <td>0</td>\n",
       "      <td>Transient</td>\n",
       "      <td>75.0</td>\n",
       "      <td>0</td>\n",
       "      <td>0</td>\n",
       "      <td>Check-Out</td>\n",
       "      <td>2015-07-02</td>\n",
       "    </tr>\n",
       "    <tr>\n",
       "      <th>3</th>\n",
       "      <td>Resort Hotel</td>\n",
       "      <td>0</td>\n",
       "      <td>13</td>\n",
       "      <td>2015</td>\n",
       "      <td>July</td>\n",
       "      <td>27</td>\n",
       "      <td>1</td>\n",
       "      <td>0</td>\n",
       "      <td>1</td>\n",
       "      <td>1</td>\n",
       "      <td>...</td>\n",
       "      <td>No Deposit</td>\n",
       "      <td>304.0</td>\n",
       "      <td>NaN</td>\n",
       "      <td>0</td>\n",
       "      <td>Transient</td>\n",
       "      <td>75.0</td>\n",
       "      <td>0</td>\n",
       "      <td>0</td>\n",
       "      <td>Check-Out</td>\n",
       "      <td>2015-07-02</td>\n",
       "    </tr>\n",
       "    <tr>\n",
       "      <th>4</th>\n",
       "      <td>Resort Hotel</td>\n",
       "      <td>0</td>\n",
       "      <td>14</td>\n",
       "      <td>2015</td>\n",
       "      <td>July</td>\n",
       "      <td>27</td>\n",
       "      <td>1</td>\n",
       "      <td>0</td>\n",
       "      <td>2</td>\n",
       "      <td>2</td>\n",
       "      <td>...</td>\n",
       "      <td>No Deposit</td>\n",
       "      <td>240.0</td>\n",
       "      <td>NaN</td>\n",
       "      <td>0</td>\n",
       "      <td>Transient</td>\n",
       "      <td>98.0</td>\n",
       "      <td>0</td>\n",
       "      <td>1</td>\n",
       "      <td>Check-Out</td>\n",
       "      <td>2015-07-03</td>\n",
       "    </tr>\n",
       "  </tbody>\n",
       "</table>\n",
       "<p>5 rows × 32 columns</p>\n",
       "</div>"
      ],
      "text/plain": [
       "          hotel  is_canceled  lead_time  arrival_date_year arrival_date_month  \\\n",
       "0  Resort Hotel            0        342               2015               July   \n",
       "1  Resort Hotel            0        737               2015               July   \n",
       "2  Resort Hotel            0          7               2015               July   \n",
       "3  Resort Hotel            0         13               2015               July   \n",
       "4  Resort Hotel            0         14               2015               July   \n",
       "\n",
       "   arrival_date_week_number  arrival_date_day_of_month  \\\n",
       "0                        27                          1   \n",
       "1                        27                          1   \n",
       "2                        27                          1   \n",
       "3                        27                          1   \n",
       "4                        27                          1   \n",
       "\n",
       "   stays_in_weekend_nights  stays_in_week_nights  adults  ...  deposit_type  \\\n",
       "0                        0                     0       2  ...    No Deposit   \n",
       "1                        0                     0       2  ...    No Deposit   \n",
       "2                        0                     1       1  ...    No Deposit   \n",
       "3                        0                     1       1  ...    No Deposit   \n",
       "4                        0                     2       2  ...    No Deposit   \n",
       "\n",
       "   agent company days_in_waiting_list customer_type   adr  \\\n",
       "0    NaN     NaN                    0     Transient   0.0   \n",
       "1    NaN     NaN                    0     Transient   0.0   \n",
       "2    NaN     NaN                    0     Transient  75.0   \n",
       "3  304.0     NaN                    0     Transient  75.0   \n",
       "4  240.0     NaN                    0     Transient  98.0   \n",
       "\n",
       "   required_car_parking_spaces  total_of_special_requests  reservation_status  \\\n",
       "0                            0                          0           Check-Out   \n",
       "1                            0                          0           Check-Out   \n",
       "2                            0                          0           Check-Out   \n",
       "3                            0                          0           Check-Out   \n",
       "4                            0                          1           Check-Out   \n",
       "\n",
       "  reservation_status_date  \n",
       "0              2015-07-01  \n",
       "1              2015-07-01  \n",
       "2              2015-07-02  \n",
       "3              2015-07-02  \n",
       "4              2015-07-03  \n",
       "\n",
       "[5 rows x 32 columns]"
      ]
     },
     "execution_count": 8,
     "metadata": {},
     "output_type": "execute_result"
    }
   ],
   "source": [
    "#importing csv file\n",
    "\n",
    "df = pd.read_csv(r'Hotel_Bookings.csv')\n",
    "df.head()"
   ]
  },
  {
   "cell_type": "markdown",
   "id": "1f73684a",
   "metadata": {},
   "source": [
    "### Theres a lot of information in this data ,lets see what types of data does it contains !!!"
   ]
  },
  {
   "cell_type": "code",
   "execution_count": 9,
   "id": "8b2717e2",
   "metadata": {},
   "outputs": [
    {
     "data": {
      "text/plain": [
       "Index(['hotel', 'is_canceled', 'lead_time', 'arrival_date_year',\n",
       "       'arrival_date_month', 'arrival_date_week_number',\n",
       "       'arrival_date_day_of_month', 'stays_in_weekend_nights',\n",
       "       'stays_in_week_nights', 'adults', 'children', 'babies', 'meal',\n",
       "       'country', 'market_segment', 'distribution_channel',\n",
       "       'is_repeated_guest', 'previous_cancellations',\n",
       "       'previous_bookings_not_canceled', 'reserved_room_type',\n",
       "       'assigned_room_type', 'booking_changes', 'deposit_type', 'agent',\n",
       "       'company', 'days_in_waiting_list', 'customer_type', 'adr',\n",
       "       'required_car_parking_spaces', 'total_of_special_requests',\n",
       "       'reservation_status', 'reservation_status_date'],\n",
       "      dtype='object')"
      ]
     },
     "execution_count": 9,
     "metadata": {},
     "output_type": "execute_result"
    }
   ],
   "source": [
    "df.columns"
   ]
  },
  {
   "cell_type": "code",
   "execution_count": 11,
   "id": "951edc7f",
   "metadata": {},
   "outputs": [
    {
     "data": {
      "text/plain": [
       "(119390, 32)"
      ]
     },
     "execution_count": 11,
     "metadata": {},
     "output_type": "execute_result"
    }
   ],
   "source": [
    "# Let's check the number of rows and columns in the dataset\n",
    "\n",
    "df.shape"
   ]
  },
  {
   "cell_type": "code",
   "execution_count": 12,
   "id": "3a3ae485",
   "metadata": {},
   "outputs": [
    {
     "data": {
      "text/plain": [
       "hotel                              object\n",
       "is_canceled                         int64\n",
       "lead_time                           int64\n",
       "arrival_date_year                   int64\n",
       "arrival_date_month                 object\n",
       "arrival_date_week_number            int64\n",
       "arrival_date_day_of_month           int64\n",
       "stays_in_weekend_nights             int64\n",
       "stays_in_week_nights                int64\n",
       "adults                              int64\n",
       "children                          float64\n",
       "babies                              int64\n",
       "meal                               object\n",
       "country                            object\n",
       "market_segment                     object\n",
       "distribution_channel               object\n",
       "is_repeated_guest                   int64\n",
       "previous_cancellations              int64\n",
       "previous_bookings_not_canceled      int64\n",
       "reserved_room_type                 object\n",
       "assigned_room_type                 object\n",
       "booking_changes                     int64\n",
       "deposit_type                       object\n",
       "agent                             float64\n",
       "company                           float64\n",
       "days_in_waiting_list                int64\n",
       "customer_type                      object\n",
       "adr                               float64\n",
       "required_car_parking_spaces         int64\n",
       "total_of_special_requests           int64\n",
       "reservation_status                 object\n",
       "reservation_status_date            object\n",
       "dtype: object"
      ]
     },
     "execution_count": 12,
     "metadata": {},
     "output_type": "execute_result"
    }
   ],
   "source": [
    "#Let's check the data type of each column\n",
    "\n",
    "df.dtypes"
   ]
  },
  {
   "cell_type": "markdown",
   "id": "8c2e42d0",
   "metadata": {},
   "source": [
    "## STEP-1 - ASSUMPTIONS\n",
    "\n",
    "### Let's go one by one through each column\n",
    "\n",
    "**1. Hotel** - This contains the type of Hotel, 'City' or 'Resort'. The type of hotel is expeccted to be a major determinant of price. Moreover, probability of cancellation of booking is expected to be higher in 'City Hotel' as compared to a 'Resort' because 'Resort' bookings are generally planned holidays, which a person is highly unlikely to cancel except for urgent and un-foreseen circumstances.\n",
    "\n",
    "**2. is_cancelled** - This contains the data regarding, whether or not a booking was cancelled. This is more like a dependent variable that needs to be predicted. However, the purview of current Project does not include Predictions\n",
    "\n",
    "**3. lead_time** - It is not very clear what this column depicts\n",
    "\n",
    "**4. arrival_date_year** - Year of visit. In normal circumstances, tourism industry has a business cycle of 1 year, i.e., trend of tourists may vary within an year, but the cycle resets every year. The number of tourists is expected to gradually increase over the years\n",
    "\n",
    "**5. arrival_date_month** - Month of visit. Every place has a peak season. The demand for hotels is expected to be high in the months when the weather is favourable. And low in the months when the weather is not favourable.\n",
    "\n",
    "**6. arrival_date_week_number** - Week of the year when the tourist had visited. This is redundant data as month and date are already given. After analysing this column, it may be dropped.\n",
    "\n",
    "**7. arrival_date_day_of_month** - The date on which the traveller had travelled. This may or may not have relevance. However, it is safe to assume that people may go on a trip in the beginning of the month when they have received their salaries.\n",
    "\n",
    "**8. stays_in_weekend_nights** - Number of weekend nights stayed. People are expected to prefer weekends over weekdays for a trip.\n",
    "\n",
    "**9. stays_in_week_nights** - Number of weekday nights stayed. People are expected to NOT prefer weekdays for a trip.\n",
    "\n",
    "**10. adults** - Number of adults saying. Single adult is expected to be on a business trip. 2 or more adults in a room are most likely friends or families.\n",
    "\n",
    "**11. childern** - Number of children staying. A room booked with children is definitely a family trip.\n",
    "\n",
    "**12. babies** - Segregation between children and babies is not given. If the column will be highly imbalanced, it will be safe to delete it.\n",
    "\n",
    "**13. meal** - Meal booked or not-booked is not expected to have an impact on cancellation. However, it may define the type of visit the person is planning. No-breakfast may mean that th eperson is planning an early morning extrusion. Breakfast plan may mean a normal touristy plan. Whereas, all meals indicate that the person is planning a peaceful stay at the hotel and the hotel can treat the person accordingly.\n",
    "\n",
    "**14. country** - It is not very clear whether it is talking about the country of hotel or country of the traveller. We may assume thta the column represents country of the hotel. And needless to say, country determines the price of a hotel.\n",
    "\n",
    "**15. market_segment** - It is not very explicit, but market segment may include the kind of traveller. Deeper study of the column may reveal new facts\n",
    "\n",
    "**16. distribution_channel** - It is not very explicit, but distribution channel may include the source of booking. Deeper study of the column may reveal new facts\n",
    "\n",
    "**17. is_repeated_guest** - A repeated guest deserves better treatment and more offers. He is also likely to recommend the hotel to other people. Hence, this person is like a paying advertisement for the hotel and definitely deserves better treatment than the other travellers\n",
    "\n",
    "**18. previous_cancellations** - A person who has cancelled booking in the past has higher chances of cancelling this time as well.\n",
    "\n",
    "**19. previous_bookings_not_canceled** - There seems to be multi-collinearity here. is_repeated_guest and this column seems to be depicting the same thing. We will explore more and decide whether to keep this column or not.\n",
    "\n",
    "**20. reserved_room_type** - The room type is a key indicator of price. While suggesting rooms to a traveler, the budget can be ascertained before offering him a room.\n",
    "\n",
    "**21. assigned_room_type** - Sometimes, hotels upgrade your room type depending on the availability. Such gestures are always welcomed by the guests. A relation between reserved room and assigned room can be used by a traveller while booking a hotel\n",
    "\n",
    "**22. booking_changes** - Number of times a booking was modified. Higher number of modifications reveal unstable or non definite plan of the traveller and may directly impact cancellation.\n",
    "\n",
    "**23. deposit_type** - A traveller who has paid a deposit is highly unlikely to cancel the booking.\n",
    "\n",
    "**24. agent** - This column seem to have NaN values. Other values are numbers which don't have a very clear meaning\n",
    "\n",
    "**25. company** - This column also has NaN values. A deeper delve into the column may reveal its features\n",
    "\n",
    "**26. days_in_waitingg_list** - A person who had a long number of days in waiting list is more likely to cancel his booking.\n",
    "\n",
    "**27. customer_type** - Contents of the column are not very clear. A deeper delve into the column may reveal its features.\n",
    "\n",
    "**28. adr** - Contents of the column are not very clear. A deeper delve into the column may reveal its features.\n",
    "\n",
    "**29. required_car_parking_spaces** - A traveller requiring car_parking is probably travelling from nearby places. In case no advance payment is made, the booking is likely to be cancelled. On the other hand, if we see from the customer's perspective, the hotel that offers car parking space is likely to charge higher\n",
    "\n",
    "**30. total_of_special_requests** - A customer with multiple special requests may be a demanding customer and the hotel must be prepared accordingly. Moreover, multiple special requests may invite higher charges\n",
    "\n",
    "**31. reservation_status** - This column is more like a dependent variable which we need to predict. However, in this project we don't have to predict anything. this column may be used for ascertaining our assumptions\n",
    "\n",
    "**32 - reservation_status_date** - The date when the status was updated. This column might not have any impact on our model and hence may be dropped."
   ]
  },
  {
   "cell_type": "markdown",
   "id": "a2c1e288",
   "metadata": {},
   "source": [
    "## STEP-2 - Univariate Analysis\n",
    "\n",
    "### Let's first analyse the target variable"
   ]
  },
  {
   "cell_type": "code",
   "execution_count": 17,
   "id": "bf6a0750",
   "metadata": {},
   "outputs": [
    {
     "data": {
      "text/plain": [
       "0    75166\n",
       "1    44224\n",
       "Name: is_canceled, dtype: int64"
      ]
     },
     "execution_count": 17,
     "metadata": {},
     "output_type": "execute_result"
    }
   ],
   "source": [
    "df['is_canceled'].value_counts()"
   ]
  },
  {
   "cell_type": "code",
   "execution_count": 22,
   "id": "3bc7b269",
   "metadata": {},
   "outputs": [
    {
     "data": {
      "text/plain": [
       "<AxesSubplot:>"
      ]
     },
     "execution_count": 22,
     "metadata": {},
     "output_type": "execute_result"
    },
    {
     "data": {
      "image/png": "[encoded data removed]",
      "text/plain": [
       "<Figure size 432x288 with 1 Axes>"
      ]
     },
     "metadata": {
      "needs_background": "light"
     },
     "output_type": "display_data"
    }
   ],
   "source": [
    "df['is_canceled'].value_counts(normalize = True).plot.bar()"
   ]
  },
  {
   "cell_type": "code",
   "execution_count": 18,
   "id": "672fcc17",
   "metadata": {},
   "outputs": [
    {
     "data": {
      "text/plain": [
       "0    0.629584\n",
       "1    0.370416\n",
       "Name: is_canceled, dtype: float64"
      ]
     },
     "execution_count": 18,
     "metadata": {},
     "output_type": "execute_result"
    }
   ],
   "source": [
    "# Ratio of not-canceled bookings to canceled bookings\n",
    "\n",
    "df['is_canceled'].value_counts(normalize = True)"
   ]
  },
  {
   "cell_type": "markdown",
   "id": "71ab65de",
   "metadata": {},
   "source": [
    "## Univariate Ananlysis for Categorical variables\n",
    "\n",
    "### hotel"
   ]
  },
  {
   "cell_type": "code",
   "execution_count": 19,
   "id": "605fbf19",
   "metadata": {},
   "outputs": [
    {
     "data": {
      "text/plain": [
       "array(['Resort Hotel', 'City Hotel'], dtype=object)"
      ]
     },
     "execution_count": 19,
     "metadata": {},
     "output_type": "execute_result"
    }
   ],
   "source": [
    "# Let's check the unique types of hotels in our dataset\n",
    "\n",
    "df['hotel'].unique()"
   ]
  },
  {
   "cell_type": "code",
   "execution_count": 20,
   "id": "9857e750",
   "metadata": {},
   "outputs": [
    {
     "data": {
      "text/plain": [
       "<AxesSubplot:>"
      ]
     },
     "execution_count": 20,
     "metadata": {},
     "output_type": "execute_result"
    },
    {
     "data": {
      "image/png": "[encoded data removed]",
      "text/plain": [
       "<Figure size 432x288 with 1 Axes>"
      ]
     },
     "metadata": {
      "needs_background": "light"
     },
     "output_type": "display_data"
    }
   ],
   "source": [
    "# Distribution of resort hotel and City Hotels\n",
    "\n",
    "df['hotel'].value_counts(normalize = True).plot.bar()"
   ]
  },
  {
   "cell_type": "markdown",
   "id": "a6fbe908",
   "metadata": {},
   "source": [
    "### is_cancelled"
   ]
  },
  {
   "cell_type": "code",
   "execution_count": 25,
   "id": "69c84b4e",
   "metadata": {},
   "outputs": [
    {
     "data": {
      "text/plain": [
       "array([0, 1], dtype=int64)"
      ]
     },
     "execution_count": 25,
     "metadata": {},
     "output_type": "execute_result"
    }
   ],
   "source": [
    "# Let's cheque the unique values in this column\n",
    "\n",
    "df['is_canceled'].unique()"
   ]
  },
  {
   "cell_type": "code",
   "execution_count": 26,
   "id": "039e1649",
   "metadata": {},
   "outputs": [
    {
     "data": {
      "text/plain": [
       "<AxesSubplot:>"
      ]
     },
     "execution_count": 26,
     "metadata": {},
     "output_type": "execute_result"
    },
    {
     "data": {
      "image/png": "[encoded data removed]",
      "text/plain": [
       "<Figure size 432x288 with 1 Axes>"
      ]
     },
     "metadata": {
      "needs_background": "light"
     },
     "output_type": "display_data"
    }
   ],
   "source": [
    "# Ratio of canceled and not canceled bookings\n",
    "\n",
    "df['is_canceled'].value_counts(normalize = True).plot.bar()"
   ]
  },
  {
   "cell_type": "markdown",
   "id": "c5f96b19",
   "metadata": {},
   "source": [
    "### meal"
   ]
  },
  {
   "cell_type": "code",
   "execution_count": 27,
   "id": "b1798612",
   "metadata": {},
   "outputs": [
    {
     "data": {
      "text/plain": [
       "array(['BB', 'FB', 'HB', 'SC', 'Undefined'], dtype=object)"
      ]
     },
     "execution_count": 27,
     "metadata": {},
     "output_type": "execute_result"
    }
   ],
   "source": [
    "# unique types of meal plans\n",
    "\n",
    "df['meal'].unique()"
   ]
  },
  {
   "cell_type": "code",
   "execution_count": 28,
   "id": "c4d91bfd",
   "metadata": {},
   "outputs": [
    {
     "data": {
      "text/plain": [
       "<AxesSubplot:>"
      ]
     },
     "execution_count": 28,
     "metadata": {},
     "output_type": "execute_result"
    },
    {
     "data": {
      "image/png": "[encoded data removed]",
      "text/plain": [
       "<Figure size 432x288 with 1 Axes>"
      ]
     },
     "metadata": {
      "needs_background": "light"
     },
     "output_type": "display_data"
    }
   ],
   "source": [
    "# distribution of number of bookings with different meal plans\n",
    "\n",
    "df['meal'].value_counts().plot.bar()"
   ]
  },
  {
   "cell_type": "markdown",
   "id": "111275e2",
   "metadata": {},
   "source": [
    "### country"
   ]
  },
  {
   "cell_type": "code",
   "execution_count": 29,
   "id": "8e301620",
   "metadata": {},
   "outputs": [
    {
     "data": {
      "text/plain": [
       "array(['PRT', 'GBR', 'USA', 'ESP', 'IRL', 'FRA', nan, 'ROU', 'NOR', 'OMN',\n",
       "       'ARG', 'POL', 'DEU', 'BEL', 'CHE', 'CN', 'GRC', 'ITA', 'NLD',\n",
       "       'DNK', 'RUS', 'SWE', 'AUS', 'EST', 'CZE', 'BRA', 'FIN', 'MOZ',\n",
       "       'BWA', 'LUX', 'SVN', 'ALB', 'IND', 'CHN', 'MEX', 'MAR', 'UKR',\n",
       "       'SMR', 'LVA', 'PRI', 'SRB', 'CHL', 'AUT', 'BLR', 'LTU', 'TUR',\n",
       "       'ZAF', 'AGO', 'ISR', 'CYM', 'ZMB', 'CPV', 'ZWE', 'DZA', 'KOR',\n",
       "       'CRI', 'HUN', 'ARE', 'TUN', 'JAM', 'HRV', 'HKG', 'IRN', 'GEO',\n",
       "       'AND', 'GIB', 'URY', 'JEY', 'CAF', 'CYP', 'COL', 'GGY', 'KWT',\n",
       "       'NGA', 'MDV', 'VEN', 'SVK', 'FJI', 'KAZ', 'PAK', 'IDN', 'LBN',\n",
       "       'PHL', 'SEN', 'SYC', 'AZE', 'BHR', 'NZL', 'THA', 'DOM', 'MKD',\n",
       "       'MYS', 'ARM', 'JPN', 'LKA', 'CUB', 'CMR', 'BIH', 'MUS', 'COM',\n",
       "       'SUR', 'UGA', 'BGR', 'CIV', 'JOR', 'SYR', 'SGP', 'BDI', 'SAU',\n",
       "       'VNM', 'PLW', 'QAT', 'EGY', 'PER', 'MLT', 'MWI', 'ECU', 'MDG',\n",
       "       'ISL', 'UZB', 'NPL', 'BHS', 'MAC', 'TGO', 'TWN', 'DJI', 'STP',\n",
       "       'KNA', 'ETH', 'IRQ', 'HND', 'RWA', 'KHM', 'MCO', 'BGD', 'IMN',\n",
       "       'TJK', 'NIC', 'BEN', 'VGB', 'TZA', 'GAB', 'GHA', 'TMP', 'GLP',\n",
       "       'KEN', 'LIE', 'GNB', 'MNE', 'UMI', 'MYT', 'FRO', 'MMR', 'PAN',\n",
       "       'BFA', 'LBY', 'MLI', 'NAM', 'BOL', 'PRY', 'BRB', 'ABW', 'AIA',\n",
       "       'SLV', 'DMA', 'PYF', 'GUY', 'LCA', 'ATA', 'GTM', 'ASM', 'MRT',\n",
       "       'NCL', 'KIR', 'SDN', 'ATF', 'SLE', 'LAO'], dtype=object)"
      ]
     },
     "execution_count": 29,
     "metadata": {},
     "output_type": "execute_result"
    }
   ],
   "source": [
    "# Let's check the list of all the countries in our dataset\n",
    "\n",
    "df['country'].unique()"
   ]
  },
  {
   "cell_type": "markdown",
   "id": "0a568bdb",
   "metadata": {},
   "source": [
    "### market_segement"
   ]
  },
  {
   "cell_type": "code",
   "execution_count": 30,
   "id": "673818cd",
   "metadata": {},
   "outputs": [
    {
     "data": {
      "text/plain": [
       "array(['Direct', 'Corporate', 'Online TA', 'Offline TA/TO',\n",
       "       'Complementary', 'Groups', 'Undefined', 'Aviation'], dtype=object)"
      ]
     },
     "execution_count": 30,
     "metadata": {},
     "output_type": "execute_result"
    }
   ],
   "source": [
    "# Let's check the different market_segments\n",
    "\n",
    "df['market_segment'].unique()"
   ]
  },
  {
   "cell_type": "code",
   "execution_count": 31,
   "id": "846c9f5f",
   "metadata": {},
   "outputs": [
    {
     "data": {
      "text/plain": [
       "<AxesSubplot:>"
      ]
     },
     "execution_count": 31,
     "metadata": {},
     "output_type": "execute_result"
    },
    {
     "data": {
      "image/png": "[encoded data removed]",
      "text/plain": [
       "<Figure size 432x288 with 1 Axes>"
      ]
     },
     "metadata": {
      "needs_background": "light"
     },
     "output_type": "display_data"
    }
   ],
   "source": [
    "# Distribution of market_segments across dataset\n",
    "\n",
    "df['market_segment'].value_counts().plot.bar()"
   ]
  },
  {
   "cell_type": "markdown",
   "id": "dd88e1bf",
   "metadata": {},
   "source": [
    "### is_repeated_guest"
   ]
  },
  {
   "cell_type": "code",
   "execution_count": 32,
   "id": "0d862638",
   "metadata": {},
   "outputs": [
    {
     "data": {
      "text/plain": [
       "array([0, 1], dtype=int64)"
      ]
     },
     "execution_count": 32,
     "metadata": {},
     "output_type": "execute_result"
    }
   ],
   "source": [
    "# unique elements in this column\n",
    "\n",
    "df['is_repeated_guest'].unique()"
   ]
  },
  {
   "cell_type": "code",
   "execution_count": 33,
   "id": "9c174220",
   "metadata": {},
   "outputs": [
    {
     "data": {
      "text/plain": [
       "0    0.968088\n",
       "1    0.031912\n",
       "Name: is_repeated_guest, dtype: float64"
      ]
     },
     "execution_count": 33,
     "metadata": {},
     "output_type": "execute_result"
    }
   ],
   "source": [
    "df['is_repeated_guest'].value_counts(normalize = True)"
   ]
  },
  {
   "cell_type": "code",
   "execution_count": 34,
   "id": "73f1690e",
   "metadata": {},
   "outputs": [
    {
     "data": {
      "text/plain": [
       "<AxesSubplot:>"
      ]
     },
     "execution_count": 34,
     "metadata": {},
     "output_type": "execute_result"
    },
    {
     "data": {
      "image/png": "[encoded data removed]",
      "text/plain": [
       "<Figure size 432x288 with 1 Axes>"
      ]
     },
     "metadata": {
      "needs_background": "light"
     },
     "output_type": "display_data"
    }
   ],
   "source": [
    "# How are repeated and non-repeated guests distributed\n",
    "\n",
    "df['is_repeated_guest'].value_counts(normalize = True).plot.bar()"
   ]
  },
  {
   "cell_type": "markdown",
   "id": "3fb3d696",
   "metadata": {},
   "source": [
    "### reserved_room_type"
   ]
  },
  {
   "cell_type": "code",
   "execution_count": 35,
   "id": "d58bd2c8",
   "metadata": {},
   "outputs": [
    {
     "data": {
      "text/plain": [
       "array(['C', 'A', 'D', 'E', 'G', 'F', 'H', 'L', 'P', 'B'], dtype=object)"
      ]
     },
     "execution_count": 35,
     "metadata": {},
     "output_type": "execute_result"
    }
   ],
   "source": [
    "# Unique elements in the column\n",
    "\n",
    "df['reserved_room_type'].unique()"
   ]
  },
  {
   "cell_type": "code",
   "execution_count": 36,
   "id": "61227700",
   "metadata": {},
   "outputs": [
    {
     "data": {
      "text/plain": [
       "<AxesSubplot:>"
      ]
     },
     "execution_count": 36,
     "metadata": {},
     "output_type": "execute_result"
    },
    {
     "data": {
      "image/png": "[encoded data removed]",
      "text/plain": [
       "<Figure size 432x288 with 1 Axes>"
      ]
     },
     "metadata": {
      "needs_background": "light"
     },
     "output_type": "display_data"
    }
   ],
   "source": [
    "# How many tourists chose which room type\n",
    "\n",
    "df['reserved_room_type'].value_counts().plot.bar()"
   ]
  },
  {
   "cell_type": "markdown",
   "id": "59ae97bc",
   "metadata": {},
   "source": [
    "### assigned_room_type"
   ]
  },
  {
   "cell_type": "code",
   "execution_count": 37,
   "id": "748badc6",
   "metadata": {},
   "outputs": [
    {
     "data": {
      "text/plain": [
       "array(['C', 'A', 'D', 'E', 'G', 'F', 'I', 'B', 'H', 'P', 'L', 'K'],\n",
       "      dtype=object)"
      ]
     },
     "execution_count": 37,
     "metadata": {},
     "output_type": "execute_result"
    }
   ],
   "source": [
    "# Unique elements in the column\n",
    "\n",
    "df['assigned_room_type'].unique()"
   ]
  },
  {
   "cell_type": "code",
   "execution_count": 38,
   "id": "119f4b02",
   "metadata": {},
   "outputs": [
    {
     "data": {
      "text/plain": [
       "<AxesSubplot:>"
      ]
     },
     "execution_count": 38,
     "metadata": {},
     "output_type": "execute_result"
    },
    {
     "data": {
      "image/png": "[encoded data removed]",
      "text/plain": [
       "<Figure size 432x288 with 1 Axes>"
      ]
     },
     "metadata": {
      "needs_background": "light"
     },
     "output_type": "display_data"
    }
   ],
   "source": [
    "# How many tourists got which room\n",
    "\n",
    "df['assigned_room_type'].value_counts().plot.bar()"
   ]
  },
  {
   "cell_type": "markdown",
   "id": "c66da18a",
   "metadata": {},
   "source": [
    "### deposit_type"
   ]
  },
  {
   "cell_type": "code",
   "execution_count": 39,
   "id": "f61cf1f7",
   "metadata": {},
   "outputs": [
    {
     "data": {
      "text/plain": [
       "array(['No Deposit', 'Refundable', 'Non Refund'], dtype=object)"
      ]
     },
     "execution_count": 39,
     "metadata": {},
     "output_type": "execute_result"
    }
   ],
   "source": [
    "# unique elements in the column\n",
    "\n",
    "df['deposit_type'].unique()"
   ]
  },
  {
   "cell_type": "code",
   "execution_count": 40,
   "id": "dda33e5b",
   "metadata": {},
   "outputs": [
    {
     "data": {
      "text/plain": [
       "<AxesSubplot:>"
      ]
     },
     "execution_count": 40,
     "metadata": {},
     "output_type": "execute_result"
    },
    {
     "data": {
      "image/png": "[encoded data removed]",
      "text/plain": [
       "<Figure size 432x288 with 1 Axes>"
      ]
     },
     "metadata": {
      "needs_background": "light"
     },
     "output_type": "display_data"
    }
   ],
   "source": [
    "# Let's see the ratio of no deposit, refundable and non refund bookings\n",
    "\n",
    "df['deposit_type'].value_counts(normalize = True).plot.bar()"
   ]
  },
  {
   "cell_type": "markdown",
   "id": "3326d36f",
   "metadata": {},
   "source": [
    "### customer_type"
   ]
  },
  {
   "cell_type": "code",
   "execution_count": 41,
   "id": "2e753767",
   "metadata": {},
   "outputs": [
    {
     "data": {
      "text/plain": [
       "array(['Transient', 'Contract', 'Transient-Party', 'Group'], dtype=object)"
      ]
     },
     "execution_count": 41,
     "metadata": {},
     "output_type": "execute_result"
    }
   ],
   "source": [
    "# Let's check the different types of customers\n",
    "\n",
    "df['customer_type'].unique()"
   ]
  },
  {
   "cell_type": "code",
   "execution_count": 42,
   "id": "16f2ef3c",
   "metadata": {},
   "outputs": [
    {
     "data": {
      "text/plain": [
       "<AxesSubplot:>"
      ]
     },
     "execution_count": 42,
     "metadata": {},
     "output_type": "execute_result"
    },
    {
     "data": {
      "image/png": "[encoded data removed]",
      "text/plain": [
       "<Figure size 432x288 with 1 Axes>"
      ]
     },
     "metadata": {
      "needs_background": "light"
     },
     "output_type": "display_data"
    }
   ],
   "source": [
    "# Distribution of different customer types across the dataset\n",
    "\n",
    "df['customer_type'].value_counts(normalize = True).plot.bar()"
   ]
  },
  {
   "cell_type": "markdown",
   "id": "7028e67e",
   "metadata": {},
   "source": [
    "### reservation_status"
   ]
  },
  {
   "cell_type": "code",
   "execution_count": 43,
   "id": "8e85eb9d",
   "metadata": {},
   "outputs": [
    {
     "data": {
      "text/plain": [
       "array(['Check-Out', 'Canceled', 'No-Show'], dtype=object)"
      ]
     },
     "execution_count": 43,
     "metadata": {},
     "output_type": "execute_result"
    }
   ],
   "source": [
    "# Let's check the types of reservation statuses\n",
    "\n",
    "df['reservation_status'].unique()"
   ]
  },
  {
   "cell_type": "code",
   "execution_count": 44,
   "id": "3eb59798",
   "metadata": {},
   "outputs": [
    {
     "data": {
      "text/plain": [
       "<AxesSubplot:>"
      ]
     },
     "execution_count": 44,
     "metadata": {},
     "output_type": "execute_result"
    },
    {
     "data": {
      "image/png": "[encoded data removed]",
      "text/plain": [
       "<Figure size 432x288 with 1 Axes>"
      ]
     },
     "metadata": {
      "needs_background": "light"
     },
     "output_type": "display_data"
    }
   ],
   "source": [
    "# Ratio of different reservation statuses\n",
    "\n",
    "df['reservation_status'].value_counts(normalize = True).plot.bar()"
   ]
  },
  {
   "cell_type": "markdown",
   "id": "01e66096",
   "metadata": {},
   "source": [
    "## Inference from univariate analysis of Categorical Variables\n",
    "\n",
    "**1. Hotel** - Almost 70% of the hotels are city hotels and only 30% are resorts. I would like to compare the cancellation ratios, duration of stay, the market segment that prefers these hotels, days in waiting list, types of customers visiting these hotels and whether car parking and other special requests were placed for both types.\n",
    "\n",
    "**2. meal** - BB = Bed and Breakfast, HB = Half Board (Breakfast + Dinner), FB = Full Board (Breakfast + Lunch + Dinner), SC = Stay only. As we can see, majority of the bookings are BB. I would like to see duration of stay with different types of meal plans.\n",
    "\n",
    "**3. market segment** - Majority of the travellers have an Online TA. The column is still too ambiguous to be commented or compared.\n",
    "\n",
    "**4. distribution channel** - After comparing this column with market segment, if a strong relation is found, I will drop the distribution_channel column\n",
    "\n",
    "**5. is_repeated_guest** - Hardly 3% travellers are repeated guests. I would like to check the relation between booking cancellation and guests who are repeated\n",
    "\n",
    "**6. reserved_room_type and assigned_room_type** - A comparison of these columns can reveal how many people got the same room as they booked.\n",
    "\n",
    "**7. deposit_type** - Majority of the bookings have no deposit. I would like to analyse the bookings that have deposit (both refundable and non-refundable) and their impact on cancellation. I would also like to analyze that how many deposit payed guests are repeat customers and wh\n",
    "\n",
    "**8. customer_type** - This column doesnot seem to have a lot of weightage. After bivariate analysis, this column may be dropped if it doesnot have any major impact on target variable\n",
    "\n",
    "**9. reservation_status** - Checked-out customer is the most common visitor. I am more interested in cancelled and no-show customers. Which type of hotel had maximum cancellations or no-shows, which market segment had maximum cancellations or no-shows, which time of the year had maximum and least number of cancellations and no-shows, which country saw maximum and least cancellations and no-shows, whether a cancelled or no-show booking had previous cancellations as well, did any customer with deposit cancel or no-show?"
   ]
  },
  {
   "cell_type": "markdown",
   "id": "eea66e56",
   "metadata": {},
   "source": [
    "## Univariate Analysis of Numerical variables"
   ]
  },
  {
   "cell_type": "markdown",
   "id": "01f9223e",
   "metadata": {},
   "source": [
    "### lead_time"
   ]
  },
  {
   "cell_type": "code",
   "execution_count": 45,
   "id": "3207baec",
   "metadata": {},
   "outputs": [
    {
     "name": "stderr",
     "output_type": "stream",
     "text": [
      "C:\\Users\\majid\\Anaconda3\\lib\\site-packages\\seaborn\\distributions.py:2557: FutureWarning: `distplot` is a deprecated function and will be removed in a future version. Please adapt your code to use either `displot` (a figure-level function with similar flexibility) or `histplot` (an axes-level function for histograms).\n",
      "  warnings.warn(msg, FutureWarning)\n"
     ]
    },
    {
     "data": {
      "image/png": "[encoded data removed]",
      "text/plain": [
       "<Figure size 432x288 with 1 Axes>"
      ]
     },
     "metadata": {
      "needs_background": "light"
     },
     "output_type": "display_data"
    }
   ],
   "source": [
    "# Let's check the frequency distribution of lead_time\n",
    "\n",
    "sns.distplot(df['lead_time'], label = 'lead_time')\n",
    "plt.show()"
   ]
  },
  {
   "cell_type": "markdown",
   "id": "19fcdcf2",
   "metadata": {},
   "source": [
    "### stays_in_weekend_nights"
   ]
  },
  {
   "cell_type": "code",
   "execution_count": 46,
   "id": "61e9efe2",
   "metadata": {},
   "outputs": [
    {
     "data": {
      "text/plain": [
       "array([ 0,  1,  2,  4,  3,  6, 13,  8,  5,  7, 12,  9, 16, 18, 19, 10, 14],\n",
       "      dtype=int64)"
      ]
     },
     "execution_count": 46,
     "metadata": {},
     "output_type": "execute_result"
    }
   ],
   "source": [
    "# Let's check the unique values in this column\n",
    "\n",
    "df['stays_in_weekend_nights'].unique()"
   ]
  },
  {
   "cell_type": "code",
   "execution_count": 47,
   "id": "29803918",
   "metadata": {},
   "outputs": [
    {
     "name": "stderr",
     "output_type": "stream",
     "text": [
      "C:\\Users\\majid\\Anaconda3\\lib\\site-packages\\seaborn\\distributions.py:2557: FutureWarning: `distplot` is a deprecated function and will be removed in a future version. Please adapt your code to use either `displot` (a figure-level function with similar flexibility) or `histplot` (an axes-level function for histograms).\n",
      "  warnings.warn(msg, FutureWarning)\n"
     ]
    },
    {
     "data": {
      "image/png": "[encoded data removed]",
      "text/plain": [
       "<Figure size 432x288 with 1 Axes>"
      ]
     },
     "metadata": {
      "needs_background": "light"
     },
     "output_type": "display_data"
    }
   ],
   "source": [
    "# Let's check the frequency distribution of stays_in_weekend_nights\n",
    "\n",
    "sns.distplot(df['stays_in_weekend_nights'], label = 'stays_in_weekend_nights')\n",
    "plt.show()"
   ]
  },
  {
   "cell_type": "code",
   "execution_count": 48,
   "id": "b0cc9476",
   "metadata": {},
   "outputs": [
    {
     "data": {
      "text/plain": [
       "[<matplotlib.lines.Line2D at 0x1252ef935e0>]"
      ]
     },
     "execution_count": 48,
     "metadata": {},
     "output_type": "execute_result"
    },
    {
     "data": {
      "image/png": "[encoded data removed]",
      "text/plain": [
       "<Figure size 432x288 with 1 Axes>"
      ]
     },
     "metadata": {
      "needs_background": "light"
     },
     "output_type": "display_data"
    }
   ],
   "source": [
    "from scipy import stats\n",
    "kdf = df['stays_in_weekend_nights'].to_numpy()\n",
    "rdf = np.hstack(kdf)\n",
    "density = stats.kde.gaussian_kde(rdf)\n",
    "x = np.arange(0, 19, 1)\n",
    "plt.plot(x, density(x))\n",
    "plt.plot(rdf, [0.01]*len(rdf), '|')"
   ]
  },
  {
   "cell_type": "code",
   "execution_count": 49,
   "id": "250e168f",
   "metadata": {},
   "outputs": [
    {
     "data": {
      "text/plain": [
       "0     51998\n",
       "2     33308\n",
       "1     30626\n",
       "4      1855\n",
       "3      1259\n",
       "6       153\n",
       "5        79\n",
       "8        60\n",
       "7        19\n",
       "9        11\n",
       "10        7\n",
       "12        5\n",
       "13        3\n",
       "16        3\n",
       "14        2\n",
       "18        1\n",
       "19        1\n",
       "Name: stays_in_weekend_nights, dtype: int64"
      ]
     },
     "execution_count": 49,
     "metadata": {},
     "output_type": "execute_result"
    }
   ],
   "source": [
    "df['stays_in_weekend_nights'].value_counts()"
   ]
  },
  {
   "cell_type": "code",
   "execution_count": 50,
   "id": "f6bab8c9",
   "metadata": {},
   "outputs": [
    {
     "data": {
      "text/plain": [
       "<AxesSubplot:>"
      ]
     },
     "execution_count": 50,
     "metadata": {},
     "output_type": "execute_result"
    },
    {
     "data": {
      "image/png": "[encoded data removed]",
      "text/plain": [
       "<Figure size 432x288 with 1 Axes>"
      ]
     },
     "metadata": {
      "needs_background": "light"
     },
     "output_type": "display_data"
    }
   ],
   "source": [
    "# Distribution of stays_in_weekend_nights\n",
    "\n",
    "df['stays_in_weekend_nights'].value_counts(normalize = True).plot.bar()"
   ]
  },
  {
   "cell_type": "markdown",
   "id": "bb1898a8",
   "metadata": {},
   "source": [
    "### stays_in_week_nights"
   ]
  },
  {
   "cell_type": "code",
   "execution_count": 52,
   "id": "6284eaef",
   "metadata": {},
   "outputs": [
    {
     "name": "stdout",
     "output_type": "stream",
     "text": [
      "Number of unique stays_in_week_nights: 35\n"
     ]
    },
    {
     "data": {
      "text/plain": [
       "array([ 0,  1,  2,  3,  4,  5, 10, 11,  8,  6,  7, 15,  9, 12, 33, 20, 14,\n",
       "       16, 21, 13, 30, 19, 24, 40, 22, 42, 50, 25, 17, 32, 26, 18, 34, 35,\n",
       "       41], dtype=int64)"
      ]
     },
     "execution_count": 52,
     "metadata": {},
     "output_type": "execute_result"
    }
   ],
   "source": [
    "#Let's check the unique values in this column\n",
    "\n",
    "print('Number of unique stays_in_week_nights:', df['stays_in_week_nights'].nunique())\n",
    "df['stays_in_week_nights'].unique()"
   ]
  },
  {
   "cell_type": "code",
   "execution_count": 53,
   "id": "4edbf640",
   "metadata": {},
   "outputs": [
    {
     "name": "stderr",
     "output_type": "stream",
     "text": [
      "C:\\Users\\majid\\Anaconda3\\lib\\site-packages\\seaborn\\distributions.py:2557: FutureWarning: `distplot` is a deprecated function and will be removed in a future version. Please adapt your code to use either `displot` (a figure-level function with similar flexibility) or `histplot` (an axes-level function for histograms).\n",
      "  warnings.warn(msg, FutureWarning)\n"
     ]
    },
    {
     "data": {
      "image/png": "[encoded data removed]",
      "text/plain": [
       "<Figure size 432x288 with 1 Axes>"
      ]
     },
     "metadata": {
      "needs_background": "light"
     },
     "output_type": "display_data"
    }
   ],
   "source": [
    "# Let's check the frequency distribution of stays_in_week_nights\n",
    "\n",
    "sns.distplot(df['stays_in_week_nights'], label = 'stays_in_week_nights')\n",
    "plt.show()"
   ]
  },
  {
   "cell_type": "code",
   "execution_count": 54,
   "id": "b4184ff8",
   "metadata": {},
   "outputs": [
    {
     "data": {
      "text/plain": [
       "[<matplotlib.lines.Line2D at 0x125282cdca0>]"
      ]
     },
     "execution_count": 54,
     "metadata": {},
     "output_type": "execute_result"
    },
    {
     "data": {
      "image/png": "[encoded data removed]",
      "text/plain": [
       "<Figure size 432x288 with 1 Axes>"
      ]
     },
     "metadata": {
      "needs_background": "light"
     },
     "output_type": "display_data"
    }
   ],
   "source": [
    "kdf = df['stays_in_week_nights'].to_numpy()\n",
    "rdf = np.hstack(kdf)\n",
    "density = stats.kde.gaussian_kde(rdf)\n",
    "x = np.arange(0, 19, 1)\n",
    "plt.plot(x, density(x))\n",
    "plt.plot(rdf, [0.01]*len(rdf), '|')"
   ]
  },
  {
   "cell_type": "code",
   "execution_count": 55,
   "id": "58719440",
   "metadata": {},
   "outputs": [
    {
     "data": {
      "text/plain": [
       "2     33684\n",
       "1     30310\n",
       "3     22258\n",
       "5     11077\n",
       "4      9563\n",
       "0      7645\n",
       "6      1499\n",
       "10     1036\n",
       "7      1029\n",
       "8       656\n",
       "9       231\n",
       "15       85\n",
       "11       56\n",
       "19       44\n",
       "12       42\n",
       "20       41\n",
       "14       35\n",
       "13       27\n",
       "16       16\n",
       "21       15\n",
       "22        7\n",
       "18        6\n",
       "25        6\n",
       "30        5\n",
       "17        4\n",
       "24        3\n",
       "40        2\n",
       "26        1\n",
       "32        1\n",
       "33        1\n",
       "34        1\n",
       "35        1\n",
       "41        1\n",
       "42        1\n",
       "50        1\n",
       "Name: stays_in_week_nights, dtype: int64"
      ]
     },
     "execution_count": 55,
     "metadata": {},
     "output_type": "execute_result"
    }
   ],
   "source": [
    "# Distribution of stays_in_week_nights\n",
    "\n",
    "df['stays_in_week_nights'].value_counts()"
   ]
  },
  {
   "cell_type": "code",
   "execution_count": 56,
   "id": "b127d093",
   "metadata": {},
   "outputs": [
    {
     "data": {
      "text/plain": [
       "<AxesSubplot:>"
      ]
     },
     "execution_count": 56,
     "metadata": {},
     "output_type": "execute_result"
    },
    {
     "data": {
      "image/png": "[encoded data removed]",
      "text/plain": [
       "<Figure size 432x288 with 1 Axes>"
      ]
     },
     "metadata": {
      "needs_background": "light"
     },
     "output_type": "display_data"
    }
   ],
   "source": [
    "# Distribution of stays_in_week_nights\n",
    "\n",
    "df['stays_in_week_nights'].value_counts(normalize = True).plot.bar()"
   ]
  },
  {
   "cell_type": "markdown",
   "id": "051ee5c6",
   "metadata": {},
   "source": [
    "### adults"
   ]
  },
  {
   "cell_type": "code",
   "execution_count": 57,
   "id": "f13134ae",
   "metadata": {},
   "outputs": [
    {
     "name": "stdout",
     "output_type": "stream",
     "text": [
      "Number of unique number_of_adults: 14\n"
     ]
    },
    {
     "data": {
      "text/plain": [
       "array([ 2,  1,  3,  4, 40, 26, 50, 27, 55,  0, 20,  6,  5, 10],\n",
       "      dtype=int64)"
      ]
     },
     "execution_count": 57,
     "metadata": {},
     "output_type": "execute_result"
    }
   ],
   "source": [
    "# Let's check the unique values in this column\n",
    "\n",
    "print('Number of unique number_of_adults:', df['adults'].nunique())\n",
    "df['adults'].unique()"
   ]
  },
  {
   "cell_type": "code",
   "execution_count": 58,
   "id": "fda385d7",
   "metadata": {},
   "outputs": [
    {
     "name": "stderr",
     "output_type": "stream",
     "text": [
      "C:\\Users\\majid\\Anaconda3\\lib\\site-packages\\seaborn\\distributions.py:2557: FutureWarning: `distplot` is a deprecated function and will be removed in a future version. Please adapt your code to use either `displot` (a figure-level function with similar flexibility) or `histplot` (an axes-level function for histograms).\n",
      "  warnings.warn(msg, FutureWarning)\n"
     ]
    },
    {
     "data": {
      "image/png": "[encoded data removed]",
      "text/plain": [
       "<Figure size 432x288 with 1 Axes>"
      ]
     },
     "metadata": {
      "needs_background": "light"
     },
     "output_type": "display_data"
    }
   ],
   "source": [
    "# Let's check the frequency distribution of adults\n",
    "\n",
    "sns.distplot(df['adults'], label = 'adults')\n",
    "plt.show()"
   ]
  },
  {
   "cell_type": "code",
   "execution_count": 59,
   "id": "0290ba66",
   "metadata": {},
   "outputs": [
    {
     "data": {
      "text/plain": [
       "[<matplotlib.lines.Line2D at 0x12527d38e80>]"
      ]
     },
     "execution_count": 59,
     "metadata": {},
     "output_type": "execute_result"
    },
    {
     "data": {
      "image/png": "[encoded data removed]",
      "text/plain": [
       "<Figure size 432x288 with 1 Axes>"
      ]
     },
     "metadata": {
      "needs_background": "light"
     },
     "output_type": "display_data"
    }
   ],
   "source": [
    "kdf = df['adults'].to_numpy()\n",
    "rdf = np.hstack(kdf)\n",
    "density = stats.kde.gaussian_kde(rdf)\n",
    "x = np.arange(0, 19, 1)\n",
    "plt.plot(x, density(x))\n",
    "plt.plot(rdf, [0.01]*len(rdf), '|')"
   ]
  },
  {
   "cell_type": "code",
   "execution_count": 60,
   "id": "b7118a98",
   "metadata": {},
   "outputs": [
    {
     "data": {
      "text/plain": [
       "2     89680\n",
       "1     23027\n",
       "3      6202\n",
       "0       403\n",
       "4        62\n",
       "26        5\n",
       "5         2\n",
       "20        2\n",
       "27        2\n",
       "6         1\n",
       "10        1\n",
       "40        1\n",
       "50        1\n",
       "55        1\n",
       "Name: adults, dtype: int64"
      ]
     },
     "execution_count": 60,
     "metadata": {},
     "output_type": "execute_result"
    }
   ],
   "source": [
    "# Distribution of number of adults\n",
    "\n",
    "df['adults'].value_counts()"
   ]
  },
  {
   "cell_type": "markdown",
   "id": "e9e2e3ee",
   "metadata": {},
   "source": [
    "### children"
   ]
  },
  {
   "cell_type": "code",
   "execution_count": 61,
   "id": "ae90c242",
   "metadata": {},
   "outputs": [
    {
     "name": "stdout",
     "output_type": "stream",
     "text": [
      "Number of unique number_of_children: 5\n"
     ]
    },
    {
     "data": {
      "text/plain": [
       "array([ 0.,  1.,  2., 10.,  3., nan])"
      ]
     },
     "execution_count": 61,
     "metadata": {},
     "output_type": "execute_result"
    }
   ],
   "source": [
    "# Let's check the unique values in this column\n",
    "\n",
    "print('Number of unique number_of_children:', df['children'].nunique())\n",
    "df['children'].unique()"
   ]
  },
  {
   "cell_type": "code",
   "execution_count": 62,
   "id": "03bd127f",
   "metadata": {},
   "outputs": [
    {
     "name": "stderr",
     "output_type": "stream",
     "text": [
      "C:\\Users\\majid\\Anaconda3\\lib\\site-packages\\seaborn\\distributions.py:2557: FutureWarning: `distplot` is a deprecated function and will be removed in a future version. Please adapt your code to use either `displot` (a figure-level function with similar flexibility) or `histplot` (an axes-level function for histograms).\n",
      "  warnings.warn(msg, FutureWarning)\n"
     ]
    },
    {
     "data": {
      "image/png": "[encoded data removed]",
      "text/plain": [
       "<Figure size 432x288 with 1 Axes>"
      ]
     },
     "metadata": {
      "needs_background": "light"
     },
     "output_type": "display_data"
    }
   ],
   "source": [
    "# Let's check the frequency distribution of children\n",
    "\n",
    "sns.distplot(df['children'], label = 'children')\n",
    "plt.show()"
   ]
  },
  {
   "cell_type": "code",
   "execution_count": 63,
   "id": "2c2d06cd",
   "metadata": {},
   "outputs": [
    {
     "data": {
      "text/plain": [
       "0.0     110796\n",
       "1.0       4861\n",
       "2.0       3652\n",
       "3.0         76\n",
       "10.0         1\n",
       "Name: children, dtype: int64"
      ]
     },
     "execution_count": 63,
     "metadata": {},
     "output_type": "execute_result"
    }
   ],
   "source": [
    "# Distribution of number of children\n",
    "\n",
    "df['children'].value_counts()"
   ]
  },
  {
   "cell_type": "code",
   "execution_count": 64,
   "id": "917b4280",
   "metadata": {},
   "outputs": [
    {
     "data": {
      "text/plain": [
       "<AxesSubplot:>"
      ]
     },
     "execution_count": 64,
     "metadata": {},
     "output_type": "execute_result"
    },
    {
     "data": {
      "image/png": "[encoded data removed]",
      "text/plain": [
       "<Figure size 432x288 with 1 Axes>"
      ]
     },
     "metadata": {
      "needs_background": "light"
     },
     "output_type": "display_data"
    }
   ],
   "source": [
    "# Distribution of number of children\n",
    "\n",
    "df['children'].value_counts(normalize = True).plot.bar()"
   ]
  },
  {
   "cell_type": "markdown",
   "id": "3dd8712a",
   "metadata": {},
   "source": [
    "### babies\n"
   ]
  },
  {
   "cell_type": "code",
   "execution_count": 65,
   "id": "25ccd575",
   "metadata": {},
   "outputs": [
    {
     "name": "stdout",
     "output_type": "stream",
     "text": [
      "Number of unique number_of_babies: 5\n"
     ]
    },
    {
     "data": {
      "text/plain": [
       "array([ 0,  1,  2, 10,  9], dtype=int64)"
      ]
     },
     "execution_count": 65,
     "metadata": {},
     "output_type": "execute_result"
    }
   ],
   "source": [
    "# Let's check the unique values in this column\n",
    "\n",
    "print('Number of unique number_of_babies:', df['babies'].nunique())\n",
    "df['babies'].unique()"
   ]
  },
  {
   "cell_type": "code",
   "execution_count": 66,
   "id": "0423ab0c",
   "metadata": {},
   "outputs": [
    {
     "name": "stderr",
     "output_type": "stream",
     "text": [
      "C:\\Users\\majid\\Anaconda3\\lib\\site-packages\\seaborn\\distributions.py:2557: FutureWarning: `distplot` is a deprecated function and will be removed in a future version. Please adapt your code to use either `displot` (a figure-level function with similar flexibility) or `histplot` (an axes-level function for histograms).\n",
      "  warnings.warn(msg, FutureWarning)\n"
     ]
    },
    {
     "data": {
      "image/png": "[encoded data removed]",
      "text/plain": [
       "<Figure size 432x288 with 1 Axes>"
      ]
     },
     "metadata": {
      "needs_background": "light"
     },
     "output_type": "display_data"
    }
   ],
   "source": [
    "# Let's check the frequency distribution of babies\n",
    "\n",
    "sns.distplot(df['babies'], label = 'babies')\n",
    "plt.show()"
   ]
  },
  {
   "cell_type": "code",
   "execution_count": 67,
   "id": "f0b01a96",
   "metadata": {},
   "outputs": [
    {
     "data": {
      "text/plain": [
       "0     118473\n",
       "1        900\n",
       "2         15\n",
       "9          1\n",
       "10         1\n",
       "Name: babies, dtype: int64"
      ]
     },
     "execution_count": 67,
     "metadata": {},
     "output_type": "execute_result"
    }
   ],
   "source": [
    "# Distribution of number of babies\n",
    "\n",
    "df['babies'].value_counts()"
   ]
  },
  {
   "cell_type": "markdown",
   "id": "ce0c0247",
   "metadata": {},
   "source": [
    "### previous_cancellations"
   ]
  },
  {
   "cell_type": "code",
   "execution_count": 68,
   "id": "187e64c3",
   "metadata": {},
   "outputs": [
    {
     "name": "stdout",
     "output_type": "stream",
     "text": [
      "Number of unique previous_cancellations: 15\n"
     ]
    },
    {
     "data": {
      "text/plain": [
       "array([ 0,  1,  2,  3, 26, 25, 14,  4, 24, 19,  5, 21,  6, 13, 11],\n",
       "      dtype=int64)"
      ]
     },
     "execution_count": 68,
     "metadata": {},
     "output_type": "execute_result"
    }
   ],
   "source": [
    "# Let's check the unique values in this column\n",
    "\n",
    "print('Number of unique previous_cancellations:', df['previous_cancellations'].nunique())\n",
    "df['previous_cancellations'].unique()"
   ]
  },
  {
   "cell_type": "code",
   "execution_count": 69,
   "id": "925f02f5",
   "metadata": {},
   "outputs": [
    {
     "name": "stderr",
     "output_type": "stream",
     "text": [
      "C:\\Users\\majid\\Anaconda3\\lib\\site-packages\\seaborn\\distributions.py:2557: FutureWarning: `distplot` is a deprecated function and will be removed in a future version. Please adapt your code to use either `displot` (a figure-level function with similar flexibility) or `histplot` (an axes-level function for histograms).\n",
      "  warnings.warn(msg, FutureWarning)\n"
     ]
    },
    {
     "data": {
      "image/png": "[encoded data removed]",
      "text/plain": [
       "<Figure size 432x288 with 1 Axes>"
      ]
     },
     "metadata": {
      "needs_background": "light"
     },
     "output_type": "display_data"
    }
   ],
   "source": [
    "# Let's check the frequency distribution of previous_cancellations\n",
    "\n",
    "sns.distplot(df['previous_cancellations'], label = 'previous_cancellations')\n",
    "plt.show()"
   ]
  },
  {
   "cell_type": "code",
   "execution_count": 70,
   "id": "5b8c4f68",
   "metadata": {},
   "outputs": [
    {
     "data": {
      "text/plain": [
       "0     112906\n",
       "1       6051\n",
       "2        116\n",
       "3         65\n",
       "24        48\n",
       "11        35\n",
       "4         31\n",
       "26        26\n",
       "25        25\n",
       "6         22\n",
       "5         19\n",
       "19        19\n",
       "14        14\n",
       "13        12\n",
       "21         1\n",
       "Name: previous_cancellations, dtype: int64"
      ]
     },
     "execution_count": 70,
     "metadata": {},
     "output_type": "execute_result"
    }
   ],
   "source": [
    "# Distribution of number of previous_cancellations\n",
    "\n",
    "df['previous_cancellations'].value_counts()"
   ]
  },
  {
   "cell_type": "code",
   "execution_count": 71,
   "id": "f0119151",
   "metadata": {},
   "outputs": [
    {
     "data": {
      "text/plain": [
       "<AxesSubplot:>"
      ]
     },
     "execution_count": 71,
     "metadata": {},
     "output_type": "execute_result"
    },
    {
     "data": {
      "image/png": "[encoded data removed]",
      "text/plain": [
       "<Figure size 432x288 with 1 Axes>"
      ]
     },
     "metadata": {
      "needs_background": "light"
     },
     "output_type": "display_data"
    }
   ],
   "source": [
    "# Distribution of number of previous_cancellations\n",
    "\n",
    "df['previous_cancellations'].value_counts(normalize = True).plot.bar()"
   ]
  },
  {
   "cell_type": "markdown",
   "id": "10038d66",
   "metadata": {},
   "source": [
    "### previous_bookings_not_canceled"
   ]
  },
  {
   "cell_type": "code",
   "execution_count": 72,
   "id": "6acdb79a",
   "metadata": {},
   "outputs": [
    {
     "name": "stdout",
     "output_type": "stream",
     "text": [
      "Number of unique previous_bookings_not_canceled: 73\n"
     ]
    },
    {
     "data": {
      "text/plain": [
       "array([ 0,  1,  2,  3,  4,  5,  6,  7,  8,  9, 10, 11, 12, 13, 14, 15, 16,\n",
       "       17, 18, 20, 21, 22, 23, 24, 25, 27, 28, 29, 30, 19, 26, 31, 32, 33,\n",
       "       34, 35, 36, 37, 38, 39, 40, 41, 42, 43, 44, 45, 46, 47, 48, 49, 50,\n",
       "       51, 52, 53, 54, 55, 56, 57, 58, 59, 60, 61, 62, 63, 64, 65, 66, 67,\n",
       "       68, 69, 70, 71, 72], dtype=int64)"
      ]
     },
     "execution_count": 72,
     "metadata": {},
     "output_type": "execute_result"
    }
   ],
   "source": [
    "# Let's check the unique values in this column\n",
    "\n",
    "print('Number of unique previous_bookings_not_canceled:', df['previous_bookings_not_canceled'].nunique())\n",
    "df['previous_bookings_not_canceled'].unique()"
   ]
  },
  {
   "cell_type": "code",
   "execution_count": 73,
   "id": "4566dcf8",
   "metadata": {},
   "outputs": [
    {
     "name": "stderr",
     "output_type": "stream",
     "text": [
      "C:\\Users\\majid\\Anaconda3\\lib\\site-packages\\seaborn\\distributions.py:2557: FutureWarning: `distplot` is a deprecated function and will be removed in a future version. Please adapt your code to use either `displot` (a figure-level function with similar flexibility) or `histplot` (an axes-level function for histograms).\n",
      "  warnings.warn(msg, FutureWarning)\n"
     ]
    },
    {
     "data": {
      "image/png": "[encoded data removed]",
      "text/plain": [
       "<Figure size 432x288 with 1 Axes>"
      ]
     },
     "metadata": {
      "needs_background": "light"
     },
     "output_type": "display_data"
    }
   ],
   "source": [
    "# Let's check the frequency distribution of previous_bookings_not_canceled\n",
    "\n",
    "sns.distplot(df['previous_bookings_not_canceled'], label = 'previous_bookings_not_canceled')\n",
    "plt.show()"
   ]
  },
  {
   "cell_type": "code",
   "execution_count": 74,
   "id": "741a2e1e",
   "metadata": {},
   "outputs": [
    {
     "data": {
      "text/plain": [
       "0     115770\n",
       "1       1542\n",
       "2        580\n",
       "3        333\n",
       "4        229\n",
       "       ...  \n",
       "38         1\n",
       "39         1\n",
       "71         1\n",
       "41         1\n",
       "63         1\n",
       "Name: previous_bookings_not_canceled, Length: 73, dtype: int64"
      ]
     },
     "execution_count": 74,
     "metadata": {},
     "output_type": "execute_result"
    }
   ],
   "source": [
    "# Distribution of number of previous_bookings_not_canceled\n",
    "\n",
    "df['previous_bookings_not_canceled'].value_counts()"
   ]
  },
  {
   "cell_type": "markdown",
   "id": "cc09dc4b",
   "metadata": {},
   "source": [
    "### booking_changes"
   ]
  },
  {
   "cell_type": "code",
   "execution_count": 75,
   "id": "33deda19",
   "metadata": {},
   "outputs": [
    {
     "name": "stdout",
     "output_type": "stream",
     "text": [
      "Number of unique booking_changes: 21\n"
     ]
    },
    {
     "data": {
      "text/plain": [
       "array([ 3,  4,  0,  1,  2,  5, 17,  6,  8,  7, 10, 16,  9, 13, 12, 20, 14,\n",
       "       15, 11, 21, 18], dtype=int64)"
      ]
     },
     "execution_count": 75,
     "metadata": {},
     "output_type": "execute_result"
    }
   ],
   "source": [
    "# Let's check the unique values in this column\n",
    "\n",
    "print('Number of unique booking_changes:', df['booking_changes'].nunique())\n",
    "df['booking_changes'].unique()"
   ]
  },
  {
   "cell_type": "code",
   "execution_count": 76,
   "id": "9ff50b20",
   "metadata": {},
   "outputs": [
    {
     "name": "stderr",
     "output_type": "stream",
     "text": [
      "C:\\Users\\majid\\Anaconda3\\lib\\site-packages\\seaborn\\distributions.py:2557: FutureWarning: `distplot` is a deprecated function and will be removed in a future version. Please adapt your code to use either `displot` (a figure-level function with similar flexibility) or `histplot` (an axes-level function for histograms).\n",
      "  warnings.warn(msg, FutureWarning)\n"
     ]
    },
    {
     "data": {
      "image/png": "[encoded data removed]",
      "text/plain": [
       "<Figure size 432x288 with 1 Axes>"
      ]
     },
     "metadata": {
      "needs_background": "light"
     },
     "output_type": "display_data"
    }
   ],
   "source": [
    "# Let's check the frequency distribution of booking_changes\n",
    "\n",
    "sns.distplot(df['booking_changes'], label = 'booking_changes')\n",
    "plt.show()"
   ]
  },
  {
   "cell_type": "code",
   "execution_count": 77,
   "id": "d595684a",
   "metadata": {},
   "outputs": [
    {
     "data": {
      "text/plain": [
       "0     101314\n",
       "1      12701\n",
       "2       3805\n",
       "3        927\n",
       "4        376\n",
       "5        118\n",
       "6         63\n",
       "7         31\n",
       "8         17\n",
       "9          8\n",
       "10         6\n",
       "13         5\n",
       "14         5\n",
       "15         3\n",
       "11         2\n",
       "12         2\n",
       "16         2\n",
       "17         2\n",
       "18         1\n",
       "20         1\n",
       "21         1\n",
       "Name: booking_changes, dtype: int64"
      ]
     },
     "execution_count": 77,
     "metadata": {},
     "output_type": "execute_result"
    }
   ],
   "source": [
    "# Distribution of number of booking_changes\n",
    "\n",
    "df['booking_changes'].value_counts()"
   ]
  },
  {
   "cell_type": "code",
   "execution_count": 78,
   "id": "a3f60750",
   "metadata": {},
   "outputs": [
    {
     "data": {
      "text/plain": [
       "<AxesSubplot:>"
      ]
     },
     "execution_count": 78,
     "metadata": {},
     "output_type": "execute_result"
    },
    {
     "data": {
      "image/png": "[encoded data removed]",
      "text/plain": [
       "<Figure size 432x288 with 1 Axes>"
      ]
     },
     "metadata": {
      "needs_background": "light"
     },
     "output_type": "display_data"
    }
   ],
   "source": [
    "#Distribution of number of booking_changes\n",
    "\n",
    "df['booking_changes'].value_counts(normalize = True).plot.bar()"
   ]
  },
  {
   "cell_type": "markdown",
   "id": "65a9909f",
   "metadata": {},
   "source": [
    "### days_in_waiting_list"
   ]
  },
  {
   "cell_type": "code",
   "execution_count": 79,
   "id": "00cb5695",
   "metadata": {},
   "outputs": [
    {
     "name": "stdout",
     "output_type": "stream",
     "text": [
      "Number of unique days_in_waiting_list: 128\n"
     ]
    },
    {
     "data": {
      "text/plain": [
       "array([  0,  50,  47,  65, 122,  75, 101, 150, 125,  14,  60,  34, 100,\n",
       "        22, 121,  61,  39,   5,   1,   8, 107,  43,  52,   2,  11, 142,\n",
       "       116,  13,  44,  97,  83,   4, 113,  18,  20, 185,  93, 109,   6,\n",
       "        37, 105, 154,  64,  99,  38,  48,  33,  77,  21,  80,  59,  40,\n",
       "        58,  89,  53,  49,  69,  87,  91,  57, 111,  79,  98,  85,  63,\n",
       "        15,   3,  41, 224,  31,  56, 187, 176,  71,  55,  96, 236, 259,\n",
       "       207, 215, 160, 120,  30,  32,  27,  62,  24, 108, 147, 379,  70,\n",
       "        35, 178, 330, 223, 174, 162, 391,  68, 193,  10,  76,  16,  28,\n",
       "         9, 165,  17,  25,  46,   7,  84, 175, 183,  23, 117,  12,  54,\n",
       "        26,  73,  45,  19,  42,  72,  81,  92,  74, 167,  36], dtype=int64)"
      ]
     },
     "execution_count": 79,
     "metadata": {},
     "output_type": "execute_result"
    }
   ],
   "source": [
    "# Let's check the unique values in this column\n",
    "\n",
    "print('Number of unique days_in_waiting_list:', df['days_in_waiting_list'].nunique())\n",
    "df['days_in_waiting_list'].unique()"
   ]
  },
  {
   "cell_type": "code",
   "execution_count": 80,
   "id": "310405b1",
   "metadata": {},
   "outputs": [
    {
     "name": "stderr",
     "output_type": "stream",
     "text": [
      "C:\\Users\\majid\\Anaconda3\\lib\\site-packages\\seaborn\\distributions.py:2557: FutureWarning: `distplot` is a deprecated function and will be removed in a future version. Please adapt your code to use either `displot` (a figure-level function with similar flexibility) or `histplot` (an axes-level function for histograms).\n",
      "  warnings.warn(msg, FutureWarning)\n"
     ]
    },
    {
     "data": {
      "image/png": "[encoded data removed]",
      "text/plain": [
       "<Figure size 432x288 with 1 Axes>"
      ]
     },
     "metadata": {
      "needs_background": "light"
     },
     "output_type": "display_data"
    }
   ],
   "source": [
    "# Let's check the frequency distribution of days_in_waiting_list\n",
    "\n",
    "sns.distplot(df['days_in_waiting_list'], label = 'days_in_waiting_list')\n",
    "plt.show()"
   ]
  },
  {
   "cell_type": "markdown",
   "id": "78c1acca",
   "metadata": {},
   "source": [
    "### adr"
   ]
  },
  {
   "cell_type": "code",
   "execution_count": 81,
   "id": "d2d08fdc",
   "metadata": {},
   "outputs": [
    {
     "name": "stderr",
     "output_type": "stream",
     "text": [
      "C:\\Users\\majid\\Anaconda3\\lib\\site-packages\\seaborn\\distributions.py:2557: FutureWarning: `distplot` is a deprecated function and will be removed in a future version. Please adapt your code to use either `displot` (a figure-level function with similar flexibility) or `histplot` (an axes-level function for histograms).\n",
      "  warnings.warn(msg, FutureWarning)\n"
     ]
    },
    {
     "data": {
      "image/png": "[encoded data removed]",
      "text/plain": [
       "<Figure size 432x288 with 1 Axes>"
      ]
     },
     "metadata": {
      "needs_background": "light"
     },
     "output_type": "display_data"
    }
   ],
   "source": [
    "# Let's check the frequency distribution of adr\n",
    "\n",
    "sns.distplot(df['adr'], label = 'adr')\n",
    "plt.show()"
   ]
  },
  {
   "cell_type": "markdown",
   "id": "81cee9d1",
   "metadata": {},
   "source": [
    "### required_car_parking_spaces"
   ]
  },
  {
   "cell_type": "code",
   "execution_count": 82,
   "id": "0a0d2a4d",
   "metadata": {},
   "outputs": [
    {
     "name": "stdout",
     "output_type": "stream",
     "text": [
      "Number of unique required_car_parking_spaces: 5\n"
     ]
    },
    {
     "data": {
      "text/plain": [
       "array([0, 1, 2, 8, 3], dtype=int64)"
      ]
     },
     "execution_count": 82,
     "metadata": {},
     "output_type": "execute_result"
    }
   ],
   "source": [
    "# Let's check the unique values in this column\n",
    "\n",
    "print('Number of unique required_car_parking_spaces:', df['required_car_parking_spaces'].nunique())\n",
    "df['required_car_parking_spaces'].unique()"
   ]
  },
  {
   "cell_type": "code",
   "execution_count": 83,
   "id": "e526629f",
   "metadata": {},
   "outputs": [
    {
     "name": "stderr",
     "output_type": "stream",
     "text": [
      "C:\\Users\\majid\\Anaconda3\\lib\\site-packages\\seaborn\\distributions.py:2557: FutureWarning: `distplot` is a deprecated function and will be removed in a future version. Please adapt your code to use either `displot` (a figure-level function with similar flexibility) or `histplot` (an axes-level function for histograms).\n",
      "  warnings.warn(msg, FutureWarning)\n"
     ]
    },
    {
     "data": {
      "image/png": "[encoded data removed]",
      "text/plain": [
       "<Figure size 432x288 with 1 Axes>"
      ]
     },
     "metadata": {
      "needs_background": "light"
     },
     "output_type": "display_data"
    }
   ],
   "source": [
    "# Let's check the frequency distribution of required_car_parking_spaces\n",
    "\n",
    "sns.distplot(df['required_car_parking_spaces'], label = 'required_car_parking_spaces')\n",
    "plt.show()"
   ]
  },
  {
   "cell_type": "code",
   "execution_count": 84,
   "id": "f63aa880",
   "metadata": {},
   "outputs": [
    {
     "data": {
      "text/plain": [
       "0    111974\n",
       "1      7383\n",
       "2        28\n",
       "3         3\n",
       "8         2\n",
       "Name: required_car_parking_spaces, dtype: int64"
      ]
     },
     "execution_count": 84,
     "metadata": {},
     "output_type": "execute_result"
    }
   ],
   "source": [
    "# Distribution of number of required_car_parking_spaces\n",
    "\n",
    "df['required_car_parking_spaces'].value_counts()"
   ]
  },
  {
   "cell_type": "code",
   "execution_count": 85,
   "id": "5d393abf",
   "metadata": {},
   "outputs": [
    {
     "data": {
      "text/plain": [
       "<AxesSubplot:>"
      ]
     },
     "execution_count": 85,
     "metadata": {},
     "output_type": "execute_result"
    },
    {
     "data": {
      "image/png": "[encoded data removed]",
      "text/plain": [
       "<Figure size 432x288 with 1 Axes>"
      ]
     },
     "metadata": {
      "needs_background": "light"
     },
     "output_type": "display_data"
    }
   ],
   "source": [
    "# Distribution of number of required_car_parking_spaces\n",
    "\n",
    "df['required_car_parking_spaces'].value_counts(normalize = True).plot.bar()"
   ]
  },
  {
   "cell_type": "markdown",
   "id": "92f4af1b",
   "metadata": {},
   "source": [
    "### total_of_special_requests"
   ]
  },
  {
   "cell_type": "code",
   "execution_count": 86,
   "id": "8ad4c5bc",
   "metadata": {},
   "outputs": [
    {
     "name": "stdout",
     "output_type": "stream",
     "text": [
      "Number of unique total_of_special_requests: 6\n"
     ]
    },
    {
     "data": {
      "text/plain": [
       "array([0, 1, 3, 2, 4, 5], dtype=int64)"
      ]
     },
     "execution_count": 86,
     "metadata": {},
     "output_type": "execute_result"
    }
   ],
   "source": [
    "# Let's check the unique values in this column\n",
    "\n",
    "print('Number of unique total_of_special_requests:', df['total_of_special_requests'].nunique())\n",
    "df['total_of_special_requests'].unique()"
   ]
  },
  {
   "cell_type": "code",
   "execution_count": 87,
   "id": "3464ef11",
   "metadata": {},
   "outputs": [
    {
     "name": "stderr",
     "output_type": "stream",
     "text": [
      "C:\\Users\\majid\\Anaconda3\\lib\\site-packages\\seaborn\\distributions.py:2557: FutureWarning: `distplot` is a deprecated function and will be removed in a future version. Please adapt your code to use either `displot` (a figure-level function with similar flexibility) or `histplot` (an axes-level function for histograms).\n",
      "  warnings.warn(msg, FutureWarning)\n"
     ]
    },
    {
     "data": {
      "image/png": "[encoded data removed]",
      "text/plain": [
       "<Figure size 432x288 with 1 Axes>"
      ]
     },
     "metadata": {
      "needs_background": "light"
     },
     "output_type": "display_data"
    }
   ],
   "source": [
    "# Let's check the frequency distribution of total_of_special_requests\n",
    "\n",
    "sns.distplot(df['total_of_special_requests'], label = 'total_of_special_requests')\n",
    "plt.show()"
   ]
  },
  {
   "cell_type": "code",
   "execution_count": 88,
   "id": "a71b6bb2",
   "metadata": {},
   "outputs": [
    {
     "data": {
      "text/plain": [
       "0    70318\n",
       "1    33226\n",
       "2    12969\n",
       "3     2497\n",
       "4      340\n",
       "5       40\n",
       "Name: total_of_special_requests, dtype: int64"
      ]
     },
     "execution_count": 88,
     "metadata": {},
     "output_type": "execute_result"
    }
   ],
   "source": [
    "df['total_of_special_requests'].value_counts()"
   ]
  },
  {
   "cell_type": "code",
   "execution_count": 89,
   "id": "a171f7d5",
   "metadata": {},
   "outputs": [
    {
     "data": {
      "text/plain": [
       "<AxesSubplot:>"
      ]
     },
     "execution_count": 89,
     "metadata": {},
     "output_type": "execute_result"
    },
    {
     "data": {
      "image/png": "[encoded data removed]",
      "text/plain": [
       "<Figure size 432x288 with 1 Axes>"
      ]
     },
     "metadata": {
      "needs_background": "light"
     },
     "output_type": "display_data"
    }
   ],
   "source": [
    "# Distribution of number of total_of_special_requests\n",
    "\n",
    "df['total_of_special_requests'].value_counts(normalize = True).plot.bar()"
   ]
  },
  {
   "cell_type": "markdown",
   "id": "1d5c195d",
   "metadata": {},
   "source": [
    "## Inference from univariate analysis of Numerical Variables\n",
    "\n",
    "**1. Lead Time** - Majority of the calls have a very low lead time. I would like to compare lead_time with cancellations.\n",
    "\n",
    "**2. stays_in_weekend_nights** - Majority people had 0-2 weekend nights of stay. There are only 2 people having 18 & 19 weekend nights.\n",
    "\n",
    "**3. stays_in_week_nights** - Majority people had 0-5 week nights of stay. There are only 10 people having more than 40 week nights.\n",
    "\n",
    "**4. adults** - Majority bookings had 2 adults.\n",
    "\n",
    "**5. children and babies** - Majority people travelled without children and babies.\n",
    "\n",
    "**6. previous_cancellations** - Majority travellers had no previous cancellations. I would like to compare previous_cancellations with current booking's is_cancelled\n",
    "\n",
    "**7. previous_bookings_not_canceled** - Majority people had zero previously uncancelled bookings. But that may be linked to is_repeated_guest\n",
    "\n",
    "**8. booking_changes** - Very few people changed their booking more than 1 time\n",
    "\n",
    "**9. days_in_waiting_list** - Mostly people had no waiting list. However nominal number of travellers had waiting list as high as 391 days. However, this seems to be a technical error. Ideally, no one will wait for an year for travelling\n",
    "\n",
    "**10. adr** - Not clear\n",
    "\n",
    "**11. required_car_parking** - Majority people didnot require car parking or required 1 car parking. 2 travellers required 8 car parkings. That is a strange request. We can check number of rooms booked, to validate this entry. However, this data is not available. Hence, this can be treated as a garbage value.\n",
    "\n",
    "**12. total_of_special_requests** - Majority people had maximum of 2 soecial requests"
   ]
  },
  {
   "cell_type": "markdown",
   "id": "5a333ee3",
   "metadata": {},
   "source": [
    "## STEP-3 - Bivariate Analysis\n",
    "\n",
    "### Bivariate Analysis of Categorical variables with is_canceled (dependent variable)"
   ]
  },
  {
   "cell_type": "code",
   "execution_count": 90,
   "id": "94f89a5f",
   "metadata": {},
   "outputs": [],
   "source": [
    "categorical = ['hotel', 'meal', 'country', 'market_segment', 'distribution_channel', 'is_repeated_guest', 'reserved_room_type', 'assigned_room_type', 'deposit_type' , 'customer_type' , 'reservation_status' ]"
   ]
  },
  {
   "cell_type": "code",
   "execution_count": 91,
   "id": "e2b7a2b3",
   "metadata": {},
   "outputs": [
    {
     "data": {
      "image/png": "[encoded data removed]",
      "text/plain": [
       "<Figure size 432x288 with 1 Axes>"
      ]
     },
     "metadata": {
      "needs_background": "light"
     },
     "output_type": "display_data"
    },
    {
     "data": {
      "image/png": "[encoded data removed]",
      "text/plain": [
       "<Figure size 432x288 with 1 Axes>"
      ]
     },
     "metadata": {
      "needs_background": "light"
     },
     "output_type": "display_data"
    },
    {
     "data": {
      "image/png": "[encoded data removed]",
      "text/plain": [
       "<Figure size 432x288 with 1 Axes>"
      ]
     },
     "metadata": {
      "needs_background": "light"
     },
     "output_type": "display_data"
    },
    {
     "data": {
      "image/png": "[encoded data removed]",
      "text/plain": [
       "<Figure size 432x288 with 1 Axes>"
      ]
     },
     "metadata": {
      "needs_background": "light"
     },
     "output_type": "display_data"
    },
    {
     "data": {
      "image/png": "[encoded data removed]",
      "text/plain": [
       "<Figure size 432x288 with 1 Axes>"
      ]
     },
     "metadata": {
      "needs_background": "light"
     },
     "output_type": "display_data"
    },
    {
     "data": {
      "image/png": "[encoded data removed]",
      "text/plain": [
       "<Figure size 432x288 with 1 Axes>"
      ]
     },
     "metadata": {
      "needs_background": "light"
     },
     "output_type": "display_data"
    },
    {
     "data": {
      "image/png": "[encoded data removed]",
      "text/plain": [
       "<Figure size 432x288 with 1 Axes>"
      ]
     },
     "metadata": {
      "needs_background": "light"
     },
     "output_type": "display_data"
    },
    {
     "data": {
      "image/png": "[encoded data removed]",
      "text/plain": [
       "<Figure size 432x288 with 1 Axes>"
      ]
     },
     "metadata": {
      "needs_background": "light"
     },
     "output_type": "display_data"
    },
    {
     "data": {
      "image/png": "[encoded data removed]",
      "text/plain": [
       "<Figure size 432x288 with 1 Axes>"
      ]
     },
     "metadata": {
      "needs_background": "light"
     },
     "output_type": "display_data"
    },
    {
     "data": {
      "image/png": "[encoded data removed]",
      "text/plain": [
       "<Figure size 432x288 with 1 Axes>"
      ]
     },
     "metadata": {
      "needs_background": "light"
     },
     "output_type": "display_data"
    },
    {
     "data": {
      "image/png": "[encoded data removed]",
      "text/plain": [
       "<Figure size 432x288 with 1 Axes>"
      ]
     },
     "metadata": {
      "needs_background": "light"
     },
     "output_type": "display_data"
    }
   ],
   "source": [
    "for item in categorical:\n",
    "    plot = pd.crosstab(df[item], df['is_canceled'])\n",
    "    plot.div(plot.sum(1).astype(float), axis = 0).plot(kind = 'bar', stacked = True)\n",
    "    plt.show()"
   ]
  },
  {
   "cell_type": "markdown",
   "id": "c2c4b8c7",
   "metadata": {},
   "source": [
    "## Inference from Bivariate Analysis of Categorical variables with is_canceled\n",
    "\n",
    "**1. hotel vs is_canceled** - city hotels saw almost 40% cancellations whereas resorts had almost 30% cancellations.\n",
    "\n",
    "**2. meal vs is_canceled** - a booking with \"Full Board\" is more likely to get canceled.\n",
    "\n",
    "**3. market_segment vs is_canceled** - group bookings are most likely to get canceled. Whereas Complementary, Corporate and Direct Bookings are least likely to get canceled.\n",
    "\n",
    "**4. is_repeated_guest vs is_canceled** - a repeated guest is hardly 10% likely to cancel his booking, while a non repeated guest is 40% likely to cancel\n",
    "\n",
    "**5. reserved_room_type vs is_canceled** - Booking for Room Type \"P\" will definitely get cancelled.\n",
    "\n",
    "**6. assigned_room_type vs is_canceled** - A traveller who is assigned Room Type \"L\" or \"P\", will definitely cancel his booking. Travellers assigned Rooms \"I\" and \"K\" are least likely to cancel.\n",
    "\n",
    "**7. deposit_type vs is_canceled** - Strangely, non-refundable bookings are almost certain to be cancelled. However, it may be noted that \"non-refund\" are very less compared to No Deposit bookings. The fields are highly imbalanced.\n",
    "\n",
    "**8. reservation_status vs is_canceled** - These two fields are highly dependent. Hence, reservation_status may be dropped."
   ]
  },
  {
   "cell_type": "markdown",
   "id": "510fbec5",
   "metadata": {},
   "source": [
    "## Bivariate Analysis of Categorical variables with other independent variables\n",
    "\n",
    "### meal vs duration_of_stay"
   ]
  },
  {
   "cell_type": "code",
   "execution_count": 92,
   "id": "7216086f",
   "metadata": {},
   "outputs": [],
   "source": [
    "df1 = df.copy()"
   ]
  },
  {
   "cell_type": "code",
   "execution_count": 93,
   "id": "23918c17",
   "metadata": {},
   "outputs": [],
   "source": [
    "df1['duration_of_stay'] = df1['stays_in_week_nights'] + df1['stays_in_weekend_nights']"
   ]
  },
  {
   "cell_type": "code",
   "execution_count": 94,
   "id": "5c2166c6",
   "metadata": {},
   "outputs": [],
   "source": [
    "meal_group = df1.groupby(by = 'meal')"
   ]
  },
  {
   "cell_type": "code",
   "execution_count": 95,
   "id": "3985697d",
   "metadata": {},
   "outputs": [
    {
     "data": {
      "text/plain": [
       "meal\n",
       "BB           3.327440\n",
       "FB           3.996241\n",
       "HB           4.335200\n",
       "SC           2.931737\n",
       "Undefined    4.267750\n",
       "Name: duration_of_stay, dtype: float64"
      ]
     },
     "execution_count": 95,
     "metadata": {},
     "output_type": "execute_result"
    }
   ],
   "source": [
    "mean_stay_meal = meal_group.mean()\n",
    "mean_stay_meal['duration_of_stay'].head()"
   ]
  },
  {
   "cell_type": "markdown",
   "id": "c6eb494e",
   "metadata": {},
   "source": [
    "### market_segment vs distribution_channel "
   ]
  },
  {
   "cell_type": "code",
   "execution_count": 96,
   "id": "1f105f1a",
   "metadata": {},
   "outputs": [
    {
     "data": {
      "image/png": "[encoded data removed]",
      "text/plain": [
       "<Figure size 432x288 with 1 Axes>"
      ]
     },
     "metadata": {
      "needs_background": "light"
     },
     "output_type": "display_data"
    }
   ],
   "source": [
    "plot = pd.crosstab(df['market_segment'], df['distribution_channel'])\n",
    "plot.div(plot.sum(1).astype(float), axis = 0).plot(kind = 'bar', stacked = True)\n",
    "plt.show()"
   ]
  },
  {
   "cell_type": "markdown",
   "id": "02c5dfb0",
   "metadata": {},
   "source": [
    "### is_repeated_guest vs is_canceled"
   ]
  },
  {
   "cell_type": "code",
   "execution_count": 97,
   "id": "fdc8ea27",
   "metadata": {},
   "outputs": [
    {
     "data": {
      "image/png": "[encoded data removed]",
      "text/plain": [
       "<Figure size 432x288 with 1 Axes>"
      ]
     },
     "metadata": {
      "needs_background": "light"
     },
     "output_type": "display_data"
    }
   ],
   "source": [
    "plot = pd.crosstab(df['is_repeated_guest'], df['is_canceled'])\n",
    "plot.div(plot.sum(1).astype(float), axis = 0).plot(kind = 'bar', stacked = True)\n",
    "plt.show()"
   ]
  },
  {
   "cell_type": "markdown",
   "id": "1385fa66",
   "metadata": {},
   "source": [
    "### reserved_room_type and assigned_room_type"
   ]
  },
  {
   "cell_type": "code",
   "execution_count": 98,
   "id": "28fd2666",
   "metadata": {},
   "outputs": [
    {
     "data": {
      "image/png": "[encoded data removed]",
      "text/plain": [
       "<Figure size 432x288 with 1 Axes>"
      ]
     },
     "metadata": {
      "needs_background": "light"
     },
     "output_type": "display_data"
    }
   ],
   "source": [
    "plot = pd.crosstab(df['assigned_room_type'], df['reserved_room_type'])\n",
    "plot.div(plot.sum(1).astype(float), axis = 0).plot(kind = 'bar', stacked = True)\n",
    "plt.show()"
   ]
  },
  {
   "cell_type": "markdown",
   "id": "e53aab73",
   "metadata": {},
   "source": [
    "### reservation_status vs hotel"
   ]
  },
  {
   "cell_type": "code",
   "execution_count": 99,
   "id": "5e53b03b",
   "metadata": {},
   "outputs": [
    {
     "data": {
      "image/png": "[encoded data removed]",
      "text/plain": [
       "<Figure size 432x288 with 1 Axes>"
      ]
     },
     "metadata": {
      "needs_background": "light"
     },
     "output_type": "display_data"
    }
   ],
   "source": [
    "plot = pd.crosstab(df['reservation_status'], df['hotel'])\n",
    "plot.div(plot.sum(1).astype(float), axis = 0).plot(kind = 'bar', stacked = True)\n",
    "plt.show()"
   ]
  },
  {
   "cell_type": "markdown",
   "id": "8782db48",
   "metadata": {},
   "source": [
    "### children vs babies"
   ]
  },
  {
   "cell_type": "code",
   "execution_count": 100,
   "id": "6fe6f509",
   "metadata": {},
   "outputs": [
    {
     "data": {
      "text/plain": [
       "<matplotlib.collections.PathCollection at 0x1252e5862b0>"
      ]
     },
     "execution_count": 100,
     "metadata": {},
     "output_type": "execute_result"
    },
    {
     "data": {
      "image/png": "[encoded data removed]",
      "text/plain": [
       "<Figure size 432x288 with 1 Axes>"
      ]
     },
     "metadata": {
      "needs_background": "light"
     },
     "output_type": "display_data"
    }
   ],
   "source": [
    "plt.scatter(df['children'], df['babies'])"
   ]
  },
  {
   "cell_type": "markdown",
   "id": "dddaac1c",
   "metadata": {},
   "source": [
    "### Inference of Bivariate Analysis of Categorical variables with other independent variables\n",
    "\n",
    "**1. meal vs duration_of_stay** - Travellers with HB (Breakfast + Dinner) had the longest duration of stay on average\n",
    "\n",
    "**2. market_segment vs distribution_channel** - As guessed, these two fields are highly interdependent. And hence one of the column can be dropped\n",
    "\n",
    "**3. reserved_room_type and assigned_room_type** - Majority people got the rooms, which they had booked.\n",
    "\n",
    "**4. reservation_status vs hotel** - Majority (approx 80%) of cancellations and no-shows were in City hotel"
   ]
  },
  {
   "cell_type": "markdown",
   "id": "875d2041",
   "metadata": {},
   "source": [
    "## Bivariate Analysis of Numerical Variables with is_cancelled (dependent variable)\n",
    "\n",
    "### lead_time vs is_canceled\n"
   ]
  },
  {
   "cell_type": "code",
   "execution_count": 101,
   "id": "265c8503",
   "metadata": {},
   "outputs": [
    {
     "data": {
      "text/plain": [
       "<AxesSubplot:xlabel='is_canceled', ylabel='lead_time'>"
      ]
     },
     "execution_count": 101,
     "metadata": {},
     "output_type": "execute_result"
    },
    {
     "data": {
      "image/png": "[encoded data removed]",
      "text/plain": [
       "<Figure size 432x288 with 1 Axes>"
      ]
     },
     "metadata": {
      "needs_background": "light"
     },
     "output_type": "display_data"
    }
   ],
   "source": [
    "sns.boxplot(x = df.is_canceled, y = df.lead_time)"
   ]
  },
  {
   "cell_type": "markdown",
   "id": "fc6e1724",
   "metadata": {},
   "source": [
    "### previous_cancellations vs is_canceled"
   ]
  },
  {
   "cell_type": "code",
   "execution_count": 102,
   "id": "449e1a99",
   "metadata": {},
   "outputs": [
    {
     "data": {
      "text/plain": [
       "<AxesSubplot:xlabel='is_canceled', ylabel='previous_cancellations'>"
      ]
     },
     "execution_count": 102,
     "metadata": {},
     "output_type": "execute_result"
    },
    {
     "data": {
      "image/png": "[encoded data removed]",
      "text/plain": [
       "<Figure size 432x288 with 1 Axes>"
      ]
     },
     "metadata": {
      "needs_background": "light"
     },
     "output_type": "display_data"
    }
   ],
   "source": [
    "sns.boxplot(x = df.is_canceled, y = df.previous_cancellations)"
   ]
  },
  {
   "cell_type": "code",
   "execution_count": 103,
   "id": "abf0b373",
   "metadata": {},
   "outputs": [
    {
     "data": {
      "image/png": "[encoded data removed]",
      "text/plain": [
       "<Figure size 432x288 with 1 Axes>"
      ]
     },
     "metadata": {
      "needs_background": "light"
     },
     "output_type": "display_data"
    }
   ],
   "source": [
    "plot = pd.crosstab(df['previous_cancellations'], df['is_canceled'])\n",
    "plot.div(plot.sum(1).astype(float), axis = 0).plot(kind = 'bar', stacked = True)\n",
    "plt.show()"
   ]
  },
  {
   "cell_type": "markdown",
   "id": "579a0737",
   "metadata": {},
   "source": [
    "## Inference from Bivariate Analysis of Numerical Variables with is_cancelled\n",
    "\n",
    "**1. lead_time vs is_canceled** - Lead_time for canceled bookings was on an average higher than not_canceled bookings.\n",
    "\n",
    "**2. previous_cancellations vs is_canceled** - Travellers with more than 14 cancellations in the past are certain to cancel the booking in future as well. The travellers with less than 11 cancellations in the past are less likely to cancel the booking in future."
   ]
  },
  {
   "cell_type": "markdown",
   "id": "17b1b5cf",
   "metadata": {},
   "source": [
    "## Bivariate Analysis of Numerical Variables with other independent variables\n",
    "\n",
    "### hotel vs duration of stay, lead_time, days_in_waiting_list, car_parking and special_requests\n"
   ]
  },
  {
   "cell_type": "code",
   "execution_count": 104,
   "id": "fe5a2803",
   "metadata": {},
   "outputs": [],
   "source": [
    "df1 = df.copy()"
   ]
  },
  {
   "cell_type": "code",
   "execution_count": 105,
   "id": "d2249b28",
   "metadata": {},
   "outputs": [],
   "source": [
    "df1['duration_of_stay'] = df1['stays_in_week_nights']+df1['stays_in_weekend_nights']"
   ]
  },
  {
   "cell_type": "code",
   "execution_count": 106,
   "id": "5b2ee8a3",
   "metadata": {},
   "outputs": [],
   "source": [
    "hotel_group = df1.groupby(by = 'hotel')"
   ]
  },
  {
   "cell_type": "code",
   "execution_count": 107,
   "id": "2fd7301a",
   "metadata": {},
   "outputs": [
    {
     "data": {
      "text/html": [
       "<div>\n",
       "<style scoped>\n",
       "    .dataframe tbody tr th:only-of-type {\n",
       "        vertical-align: middle;\n",
       "    }\n",
       "\n",
       "    .dataframe tbody tr th {\n",
       "        vertical-align: top;\n",
       "    }\n",
       "\n",
       "    .dataframe thead th {\n",
       "        text-align: right;\n",
       "    }\n",
       "</style>\n",
       "<table border=\"1\" class=\"dataframe\">\n",
       "  <thead>\n",
       "    <tr style=\"text-align: right;\">\n",
       "      <th></th>\n",
       "      <th>is_canceled</th>\n",
       "      <th>lead_time</th>\n",
       "      <th>stays_in_weekend_nights</th>\n",
       "      <th>stays_in_week_nights</th>\n",
       "      <th>days_in_waiting_list</th>\n",
       "      <th>required_car_parking_spaces</th>\n",
       "      <th>total_of_special_requests</th>\n",
       "      <th>duration_of_stay</th>\n",
       "    </tr>\n",
       "    <tr>\n",
       "      <th>hotel</th>\n",
       "      <th></th>\n",
       "      <th></th>\n",
       "      <th></th>\n",
       "      <th></th>\n",
       "      <th></th>\n",
       "      <th></th>\n",
       "      <th></th>\n",
       "      <th></th>\n",
       "    </tr>\n",
       "  </thead>\n",
       "  <tbody>\n",
       "    <tr>\n",
       "      <th>City Hotel</th>\n",
       "      <td>0.417270</td>\n",
       "      <td>109.735724</td>\n",
       "      <td>0.795185</td>\n",
       "      <td>2.182957</td>\n",
       "      <td>3.226774</td>\n",
       "      <td>0.024367</td>\n",
       "      <td>0.546918</td>\n",
       "      <td>2.978142</td>\n",
       "    </tr>\n",
       "    <tr>\n",
       "      <th>Resort Hotel</th>\n",
       "      <td>0.277634</td>\n",
       "      <td>92.675686</td>\n",
       "      <td>1.189815</td>\n",
       "      <td>3.128732</td>\n",
       "      <td>0.527758</td>\n",
       "      <td>0.138068</td>\n",
       "      <td>0.619770</td>\n",
       "      <td>4.318547</td>\n",
       "    </tr>\n",
       "  </tbody>\n",
       "</table>\n",
       "</div>"
      ],
      "text/plain": [
       "              is_canceled   lead_time  stays_in_weekend_nights  \\\n",
       "hotel                                                            \n",
       "City Hotel       0.417270  109.735724                 0.795185   \n",
       "Resort Hotel     0.277634   92.675686                 1.189815   \n",
       "\n",
       "              stays_in_week_nights  days_in_waiting_list  \\\n",
       "hotel                                                      \n",
       "City Hotel                2.182957              3.226774   \n",
       "Resort Hotel              3.128732              0.527758   \n",
       "\n",
       "              required_car_parking_spaces  total_of_special_requests  \\\n",
       "hotel                                                                  \n",
       "City Hotel                       0.024367                   0.546918   \n",
       "Resort Hotel                     0.138068                   0.619770   \n",
       "\n",
       "              duration_of_stay  \n",
       "hotel                           \n",
       "City Hotel            2.978142  \n",
       "Resort Hotel          4.318547  "
      ]
     },
     "execution_count": 107,
     "metadata": {},
     "output_type": "execute_result"
    }
   ],
   "source": [
    "mean_hotel_stay = hotel_group.mean()\n",
    "mean_hotel_stay.drop(columns = ['arrival_date_year', 'arrival_date_week_number', 'arrival_date_day_of_month',\n",
    "                                'adults', 'children', 'babies',\n",
    "                                'is_repeated_guest', 'previous_cancellations', 'previous_bookings_not_canceled', 'booking_changes',\n",
    "                                'agent', 'company', 'adr'], inplace = True)\n",
    "\n",
    "mean_hotel_stay.head()"
   ]
  },
  {
   "cell_type": "markdown",
   "id": "493909dd",
   "metadata": {},
   "source": [
    "### previous_bookings_not_canceled vs is_repeated_guest"
   ]
  },
  {
   "cell_type": "code",
   "execution_count": 108,
   "id": "a0f0bf93",
   "metadata": {},
   "outputs": [
    {
     "data": {
      "text/plain": [
       "<AxesSubplot:xlabel='is_repeated_guest', ylabel='previous_bookings_not_canceled'>"
      ]
     },
     "execution_count": 108,
     "metadata": {},
     "output_type": "execute_result"
    },
    {
     "data": {
      "image/png": "[encoded data removed]",
      "text/plain": [
       "<Figure size 432x288 with 1 Axes>"
      ]
     },
     "metadata": {
      "needs_background": "light"
     },
     "output_type": "display_data"
    }
   ],
   "source": [
    "sns.boxplot(x = df.is_repeated_guest, y = df.previous_bookings_not_canceled)"
   ]
  },
  {
   "cell_type": "markdown",
   "id": "05957fda",
   "metadata": {},
   "source": [
    "## Inference from Bivariate Analysis of Numerical Variables with other independent variables\n",
    "\n",
    "**1. hotel vs duration of stay** - On an average, travellers stayed for longer duration in a resort hotel compared to city hotel\n",
    "\n",
    "**2. hotel vs lead_time** - On an average, it took longer to generate a lead for a city hotel as compared to resort.\n",
    "\n",
    "**3. hotel vs days_in_waiting_list** - Travellers had to wait for more than 3 days on an average for a city hotel compared to hardly 0.5 day for a resort hotel.\n",
    "\n",
    "**4. hotel vs car_parking and special_requests** - hardly any travellers requested for a car parking in general. However, it may be noted that chances of car parking request is higher in resort hotel than in a city hotel. Special Requests are also slightly higher in a resort hotel.\n",
    "\n",
    "**5. previous_bookings_not_canceled vs is_repeated_guest** - Not clear. There are a lot of outliers."
   ]
  },
  {
   "cell_type": "markdown",
   "id": "6cc44dff",
   "metadata": {},
   "source": [
    "# STEP-4 - Multivariate Analysis"
   ]
  },
  {
   "cell_type": "code",
   "execution_count": 109,
   "id": "2d9def50",
   "metadata": {},
   "outputs": [
    {
     "data": {
      "image/png": "[encoded data removed]",
      "text/plain": [
       "<Figure size 864x648 with 2 Axes>"
      ]
     },
     "metadata": {
      "needs_background": "light"
     },
     "output_type": "display_data"
    }
   ],
   "source": [
    "#correlation matrix\n",
    "corrmat = df.corr()\n",
    "f, ax = plt.subplots(figsize=(12, 9))\n",
    "sns.heatmap(corrmat, vmax=.8, square=True, );"
   ]
  },
  {
   "cell_type": "markdown",
   "id": "9e75bf54",
   "metadata": {},
   "source": [
    "### Inference from Heatmap\n",
    "\n",
    "Heatmap depicts that we have an ideal data at hand. None of the variables are highly correlated.\n",
    "\n",
    "There is a correlation between \"adr & children\" and \"adr & adults\". Since the meaning of the column is not very clear and it is also not highly correlated with dependent variable, we can take the decision to drop this column."
   ]
  },
  {
   "cell_type": "markdown",
   "id": "82c2f861",
   "metadata": {},
   "source": [
    "# STEP-5 - Treating NaN values"
   ]
  },
  {
   "cell_type": "code",
   "execution_count": 111,
   "id": "e35cfac2",
   "metadata": {},
   "outputs": [
    {
     "data": {
      "text/plain": [
       "hotel                                  0\n",
       "is_canceled                            0\n",
       "lead_time                              0\n",
       "arrival_date_year                      0\n",
       "arrival_date_month                     0\n",
       "arrival_date_week_number               0\n",
       "arrival_date_day_of_month              0\n",
       "stays_in_weekend_nights                0\n",
       "stays_in_week_nights                   0\n",
       "adults                                 0\n",
       "children                               4\n",
       "babies                                 0\n",
       "meal                                   0\n",
       "country                              488\n",
       "market_segment                         0\n",
       "distribution_channel                   0\n",
       "is_repeated_guest                      0\n",
       "previous_cancellations                 0\n",
       "previous_bookings_not_canceled         0\n",
       "reserved_room_type                     0\n",
       "assigned_room_type                     0\n",
       "booking_changes                        0\n",
       "deposit_type                           0\n",
       "agent                              16340\n",
       "company                           112593\n",
       "days_in_waiting_list                   0\n",
       "customer_type                          0\n",
       "adr                                    0\n",
       "required_car_parking_spaces            0\n",
       "total_of_special_requests              0\n",
       "reservation_status                     0\n",
       "reservation_status_date                0\n",
       "dtype: int64"
      ]
     },
     "execution_count": 111,
     "metadata": {},
     "output_type": "execute_result"
    }
   ],
   "source": [
    "# check NaN values in dataframe\n",
    "\n",
    "df.isna().sum()"
   ]
  },
  {
   "cell_type": "code",
   "execution_count": 112,
   "id": "35836dd1",
   "metadata": {},
   "outputs": [
    {
     "data": {
      "text/plain": [
       "(119390, 32)"
      ]
     },
     "execution_count": 112,
     "metadata": {},
     "output_type": "execute_result"
    }
   ],
   "source": [
    "df.shape"
   ]
  },
  {
   "cell_type": "code",
   "execution_count": 113,
   "id": "253c3db2",
   "metadata": {},
   "outputs": [],
   "source": [
    "# make a copy of original dataset\n",
    "\n",
    "df1 = df.copy()"
   ]
  },
  {
   "cell_type": "markdown",
   "id": "84ec3f78",
   "metadata": {},
   "source": [
    "There are only 4 NaN values in column 'children' and 488 NaN values in column'country'. Against the total rows of 119390, these are very few and can be dropped"
   ]
  },
  {
   "cell_type": "code",
   "execution_count": 114,
   "id": "c4f2cc56",
   "metadata": {},
   "outputs": [
    {
     "data": {
      "text/plain": [
       "hotel                                  0\n",
       "is_canceled                            0\n",
       "lead_time                              0\n",
       "arrival_date_year                      0\n",
       "arrival_date_month                     0\n",
       "arrival_date_week_number               0\n",
       "arrival_date_day_of_month              0\n",
       "stays_in_weekend_nights                0\n",
       "stays_in_week_nights                   0\n",
       "adults                                 0\n",
       "children                               0\n",
       "babies                                 0\n",
       "meal                                   0\n",
       "country                                0\n",
       "market_segment                         0\n",
       "distribution_channel                   0\n",
       "is_repeated_guest                      0\n",
       "previous_cancellations                 0\n",
       "previous_bookings_not_canceled         0\n",
       "reserved_room_type                     0\n",
       "assigned_room_type                     0\n",
       "booking_changes                        0\n",
       "deposit_type                           0\n",
       "agent                              16004\n",
       "company                           112275\n",
       "days_in_waiting_list                   0\n",
       "customer_type                          0\n",
       "adr                                    0\n",
       "required_car_parking_spaces            0\n",
       "total_of_special_requests              0\n",
       "reservation_status                     0\n",
       "reservation_status_date                0\n",
       "dtype: int64"
      ]
     },
     "execution_count": 114,
     "metadata": {},
     "output_type": "execute_result"
    }
   ],
   "source": [
    "# drop rows having NaN in columns 'country' and 'children'\n",
    "\n",
    "df1.dropna(subset = ['country', 'children'], inplace = True)\n",
    "df1.isna().sum()"
   ]
  },
  {
   "cell_type": "markdown",
   "id": "30bcd1e6",
   "metadata": {},
   "source": [
    "Meaning of the contents of this coumn is not clear. Since this column also contains NaN values, we can simply delete this column as it is not strongly affecting our target variable"
   ]
  },
  {
   "cell_type": "code",
   "execution_count": 115,
   "id": "826cc49c",
   "metadata": {},
   "outputs": [
    {
     "data": {
      "text/plain": [
       "9.0      31959\n",
       "240.0    13871\n",
       "1.0       7191\n",
       "14.0      3638\n",
       "7.0       3539\n",
       "         ...  \n",
       "444.0        1\n",
       "280.0        1\n",
       "299.0        1\n",
       "397.0        1\n",
       "433.0        1\n",
       "Name: agent, Length: 332, dtype: int64"
      ]
     },
     "execution_count": 115,
     "metadata": {},
     "output_type": "execute_result"
    }
   ],
   "source": [
    "df1['agent'].value_counts()"
   ]
  },
  {
   "cell_type": "code",
   "execution_count": 116,
   "id": "b71cdbc9",
   "metadata": {},
   "outputs": [
    {
     "data": {
      "text/plain": [
       "hotel                                  0\n",
       "is_canceled                            0\n",
       "lead_time                              0\n",
       "arrival_date_year                      0\n",
       "arrival_date_month                     0\n",
       "arrival_date_week_number               0\n",
       "arrival_date_day_of_month              0\n",
       "stays_in_weekend_nights                0\n",
       "stays_in_week_nights                   0\n",
       "adults                                 0\n",
       "children                               0\n",
       "babies                                 0\n",
       "meal                                   0\n",
       "country                                0\n",
       "market_segment                         0\n",
       "distribution_channel                   0\n",
       "is_repeated_guest                      0\n",
       "previous_cancellations                 0\n",
       "previous_bookings_not_canceled         0\n",
       "reserved_room_type                     0\n",
       "assigned_room_type                     0\n",
       "booking_changes                        0\n",
       "deposit_type                           0\n",
       "company                           112275\n",
       "days_in_waiting_list                   0\n",
       "customer_type                          0\n",
       "adr                                    0\n",
       "required_car_parking_spaces            0\n",
       "total_of_special_requests              0\n",
       "reservation_status                     0\n",
       "reservation_status_date                0\n",
       "dtype: int64"
      ]
     },
     "execution_count": 116,
     "metadata": {},
     "output_type": "execute_result"
    }
   ],
   "source": [
    "df1.drop(columns = 'agent', inplace = True)\n",
    "\n",
    "df1.isna().sum()\n"
   ]
  },
  {
   "cell_type": "code",
   "execution_count": 117,
   "id": "023acdaf",
   "metadata": {},
   "outputs": [
    {
     "data": {
      "text/plain": [
       "40.0     927\n",
       "223.0    784\n",
       "67.0     267\n",
       "45.0     250\n",
       "153.0    215\n",
       "        ... \n",
       "425.0      1\n",
       "104.0      1\n",
       "11.0       1\n",
       "54.0       1\n",
       "481.0      1\n",
       "Name: company, Length: 349, dtype: int64"
      ]
     },
     "execution_count": 117,
     "metadata": {},
     "output_type": "execute_result"
    }
   ],
   "source": [
    "df1['company'].value_counts()"
   ]
  },
  {
   "cell_type": "markdown",
   "id": "5fb30da3",
   "metadata": {},
   "source": [
    "As was the case with column 'agent', the column 'company' is also not clear. We can thus drop this column as well"
   ]
  },
  {
   "cell_type": "code",
   "execution_count": 118,
   "id": "d714b2c2",
   "metadata": {},
   "outputs": [
    {
     "data": {
      "text/plain": [
       "hotel                             0\n",
       "is_canceled                       0\n",
       "lead_time                         0\n",
       "arrival_date_year                 0\n",
       "arrival_date_month                0\n",
       "arrival_date_week_number          0\n",
       "arrival_date_day_of_month         0\n",
       "stays_in_weekend_nights           0\n",
       "stays_in_week_nights              0\n",
       "adults                            0\n",
       "children                          0\n",
       "babies                            0\n",
       "meal                              0\n",
       "country                           0\n",
       "market_segment                    0\n",
       "distribution_channel              0\n",
       "is_repeated_guest                 0\n",
       "previous_cancellations            0\n",
       "previous_bookings_not_canceled    0\n",
       "reserved_room_type                0\n",
       "assigned_room_type                0\n",
       "booking_changes                   0\n",
       "deposit_type                      0\n",
       "days_in_waiting_list              0\n",
       "customer_type                     0\n",
       "adr                               0\n",
       "required_car_parking_spaces       0\n",
       "total_of_special_requests         0\n",
       "reservation_status                0\n",
       "reservation_status_date           0\n",
       "dtype: int64"
      ]
     },
     "execution_count": 118,
     "metadata": {},
     "output_type": "execute_result"
    }
   ],
   "source": [
    "df1.drop(columns = 'company', inplace = True)\n",
    "\n",
    "df1.isna().sum()"
   ]
  },
  {
   "cell_type": "markdown",
   "id": "a60293f3",
   "metadata": {},
   "source": [
    "# STEP-6 - Dealing with Outliers"
   ]
  },
  {
   "cell_type": "markdown",
   "id": "d12715c9",
   "metadata": {},
   "source": [
    "## Column 'meal'\n",
    "\n",
    "This column has a value 'undefined', which is hardly 1% of the total data.\n",
    "\n",
    "As analysed in Bivariate analysis, undefined and HB (Half Board) have similar effect on cancellations.\n",
    "\n",
    "Thus, we will replace 'undefined' with HB"
   ]
  },
  {
   "cell_type": "code",
   "execution_count": 119,
   "id": "66bab1e7",
   "metadata": {},
   "outputs": [],
   "source": [
    "# Make a copy of df1\n",
    "\n",
    "df2 = df1.copy()"
   ]
  },
  {
   "cell_type": "code",
   "execution_count": 120,
   "id": "ed41a363",
   "metadata": {},
   "outputs": [],
   "source": [
    "df2['meal'].replace({'Undefined' : 'HB'}, inplace = True)"
   ]
  },
  {
   "cell_type": "code",
   "execution_count": 121,
   "id": "6e75cf8c",
   "metadata": {},
   "outputs": [
    {
     "data": {
      "text/plain": [
       "BB    91863\n",
       "HB    15599\n",
       "SC    10638\n",
       "FB      798\n",
       "Name: meal, dtype: int64"
      ]
     },
     "execution_count": 121,
     "metadata": {},
     "output_type": "execute_result"
    }
   ],
   "source": [
    "df2['meal'].value_counts()"
   ]
  },
  {
   "cell_type": "markdown",
   "id": "5c8ad338",
   "metadata": {},
   "source": [
    "## Column 'lead_time'\n",
    "\n",
    "This column had a lot of outliers. The data was skewed.\n",
    "\n",
    "However, removing all outliers will reduce the data set size. So we will remove only the values that are extreme outliers"
   ]
  },
  {
   "cell_type": "code",
   "execution_count": 122,
   "id": "572c4c4d",
   "metadata": {},
   "outputs": [
    {
     "data": {
      "text/plain": [
       "{'whiskers': [<matplotlib.lines.Line2D at 0x1252e670550>,\n",
       "  <matplotlib.lines.Line2D at 0x1252e6705b0>],\n",
       " 'caps': [<matplotlib.lines.Line2D at 0x1252e670400>,\n",
       "  <matplotlib.lines.Line2D at 0x12527dd8460>],\n",
       " 'boxes': [<matplotlib.lines.Line2D at 0x1252e6707c0>],\n",
       " 'medians': [<matplotlib.lines.Line2D at 0x12527dd80d0>],\n",
       " 'fliers': [<matplotlib.lines.Line2D at 0x12527dd8550>],\n",
       " 'means': []}"
      ]
     },
     "execution_count": 122,
     "metadata": {},
     "output_type": "execute_result"
    },
    {
     "data": {
      "image/png": "[encoded data removed]",
      "text/plain": [
       "<Figure size 432x288 with 1 Axes>"
      ]
     },
     "metadata": {
      "needs_background": "light"
     },
     "output_type": "display_data"
    }
   ],
   "source": [
    "# Let's make a boxplot for this column\n",
    "\n",
    "plt.boxplot(df['lead_time'])"
   ]
  },
  {
   "cell_type": "code",
   "execution_count": 123,
   "id": "89c28832",
   "metadata": {},
   "outputs": [
    {
     "data": {
      "text/plain": [
       "(2, 30)"
      ]
     },
     "execution_count": 123,
     "metadata": {},
     "output_type": "execute_result"
    }
   ],
   "source": [
    "# Let's check the number of rows containing lead_time greater than 650\n",
    "\n",
    "df2[df2['lead_time'] > 650].shape"
   ]
  },
  {
   "cell_type": "code",
   "execution_count": 124,
   "id": "88de1f60",
   "metadata": {},
   "outputs": [],
   "source": [
    "# Save index of all rows containing lead_time greater than 650\n",
    "\n",
    "index = df2[df2['lead_time'] > 650].index"
   ]
  },
  {
   "cell_type": "code",
   "execution_count": 125,
   "id": "ab10a364",
   "metadata": {},
   "outputs": [],
   "source": [
    "# Drop rows containing lead_time greater than 650\n",
    "\n",
    "df2.drop(index, inplace = True)"
   ]
  },
  {
   "cell_type": "code",
   "execution_count": 126,
   "id": "b91ff9e6",
   "metadata": {},
   "outputs": [
    {
     "data": {
      "text/plain": [
       "(0, 30)"
      ]
     },
     "execution_count": 126,
     "metadata": {},
     "output_type": "execute_result"
    }
   ],
   "source": [
    "df2[df2['lead_time'] > 650].shape"
   ]
  },
  {
   "cell_type": "code",
   "execution_count": 127,
   "id": "f5549614",
   "metadata": {},
   "outputs": [
    {
     "name": "stderr",
     "output_type": "stream",
     "text": [
      "C:\\Users\\majid\\Anaconda3\\lib\\site-packages\\seaborn\\distributions.py:2557: FutureWarning: `distplot` is a deprecated function and will be removed in a future version. Please adapt your code to use either `displot` (a figure-level function with similar flexibility) or `histplot` (an axes-level function for histograms).\n",
      "  warnings.warn(msg, FutureWarning)\n"
     ]
    },
    {
     "data": {
      "image/png": "[encoded data removed]",
      "text/plain": [
       "<Figure size 432x288 with 1 Axes>"
      ]
     },
     "metadata": {
      "needs_background": "light"
     },
     "output_type": "display_data"
    }
   ],
   "source": [
    "# Let's check the frequency distribution of lead_time\n",
    "\n",
    "sns.distplot(df2['lead_time'], label = 'lead_time')\n",
    "plt.show()"
   ]
  },
  {
   "cell_type": "markdown",
   "id": "738e3642",
   "metadata": {},
   "source": [
    "### Column 'stays_in_weekend_nights'\n",
    "\n",
    "Majority people stayed for upto 5 weekend nights. This data is also skewed"
   ]
  },
  {
   "cell_type": "code",
   "execution_count": 129,
   "id": "5b277436",
   "metadata": {},
   "outputs": [
    {
     "data": {
      "text/plain": [
       "{'whiskers': [<matplotlib.lines.Line2D at 0x1252eaf56d0>,\n",
       "  <matplotlib.lines.Line2D at 0x1252eaf5a00>],\n",
       " 'caps': [<matplotlib.lines.Line2D at 0x1252eaf5250>,\n",
       "  <matplotlib.lines.Line2D at 0x1252e9123a0>],\n",
       " 'boxes': [<matplotlib.lines.Line2D at 0x1252eaf52b0>],\n",
       " 'medians': [<matplotlib.lines.Line2D at 0x1252e912700>],\n",
       " 'fliers': [<matplotlib.lines.Line2D at 0x1252e912a60>],\n",
       " 'means': []}"
      ]
     },
     "execution_count": 129,
     "metadata": {},
     "output_type": "execute_result"
    },
    {
     "data": {
      "image/png": "[encoded data removed]",
      "text/plain": [
       "<Figure size 432x288 with 1 Axes>"
      ]
     },
     "metadata": {
      "needs_background": "light"
     },
     "output_type": "display_data"
    }
   ],
   "source": [
    "# Let's make a boxplot for this column\n",
    "\n",
    "plt.boxplot(df2['stays_in_weekend_nights'])"
   ]
  },
  {
   "cell_type": "code",
   "execution_count": 130,
   "id": "cf05c984",
   "metadata": {},
   "outputs": [
    {
     "data": {
      "text/plain": [
       "(13, 30)"
      ]
     },
     "execution_count": 130,
     "metadata": {},
     "output_type": "execute_result"
    }
   ],
   "source": [
    "# Let's check the number of rows containing stays_in_weekend_nights greater than 10\n",
    "\n",
    "df2[df2['stays_in_weekend_nights'] > 10].shape"
   ]
  },
  {
   "cell_type": "code",
   "execution_count": 131,
   "id": "95442234",
   "metadata": {},
   "outputs": [],
   "source": [
    "# Save index of all rows containing stays_in_weekend_nights greater than 10\n",
    "\n",
    "index_weekend_outlier = df2[df2['stays_in_weekend_nights'] > 10].index"
   ]
  },
  {
   "cell_type": "code",
   "execution_count": 132,
   "id": "904547de",
   "metadata": {},
   "outputs": [],
   "source": [
    "# Drop rows containing stays_in_weekend_nights greater than 10\n",
    "\n",
    "df2.drop(index_weekend_outlier, inplace = True)"
   ]
  },
  {
   "cell_type": "code",
   "execution_count": 133,
   "id": "97581b27",
   "metadata": {},
   "outputs": [
    {
     "data": {
      "text/plain": [
       "(0, 30)"
      ]
     },
     "execution_count": 133,
     "metadata": {},
     "output_type": "execute_result"
    }
   ],
   "source": [
    "df2[df2['stays_in_weekend_nights'] > 10].shape"
   ]
  },
  {
   "cell_type": "code",
   "execution_count": 134,
   "id": "6470d693",
   "metadata": {},
   "outputs": [
    {
     "data": {
      "text/plain": [
       "{'whiskers': [<matplotlib.lines.Line2D at 0x1252e634dc0>,\n",
       "  <matplotlib.lines.Line2D at 0x1252e63b160>],\n",
       " 'caps': [<matplotlib.lines.Line2D at 0x1252e63b4c0>,\n",
       "  <matplotlib.lines.Line2D at 0x1252e63b820>],\n",
       " 'boxes': [<matplotlib.lines.Line2D at 0x1252e634a60>],\n",
       " 'medians': [<matplotlib.lines.Line2D at 0x1252e63bb80>],\n",
       " 'fliers': [<matplotlib.lines.Line2D at 0x1252e63bee0>],\n",
       " 'means': []}"
      ]
     },
     "execution_count": 134,
     "metadata": {},
     "output_type": "execute_result"
    },
    {
     "data": {
      "image/png": "[encoded data removed]",
      "text/plain": [
       "<Figure size 432x288 with 1 Axes>"
      ]
     },
     "metadata": {
      "needs_background": "light"
     },
     "output_type": "display_data"
    }
   ],
   "source": [
    "plt.boxplot(df2['stays_in_weekend_nights'])"
   ]
  },
  {
   "cell_type": "markdown",
   "id": "a4be6434",
   "metadata": {},
   "source": [
    "### column 'stays_in_week_nights'\n",
    "\n",
    "Majority people stayed for less than 10 week nights."
   ]
  },
  {
   "cell_type": "code",
   "execution_count": 135,
   "id": "508c12b1",
   "metadata": {},
   "outputs": [
    {
     "data": {
      "text/plain": [
       "{'whiskers': [<matplotlib.lines.Line2D at 0x1252e6fe4c0>,\n",
       "  <matplotlib.lines.Line2D at 0x1252e6fe820>],\n",
       " 'caps': [<matplotlib.lines.Line2D at 0x1252e6feb80>,\n",
       "  <matplotlib.lines.Line2D at 0x1252e6feee0>],\n",
       " 'boxes': [<matplotlib.lines.Line2D at 0x1252e6fe190>],\n",
       " 'medians': [<matplotlib.lines.Line2D at 0x1252e6d1250>],\n",
       " 'fliers': [<matplotlib.lines.Line2D at 0x1252e6d1580>],\n",
       " 'means': []}"
      ]
     },
     "execution_count": 135,
     "metadata": {},
     "output_type": "execute_result"
    },
    {
     "data": {
      "image/png": "[encoded data removed]",
      "text/plain": [
       "<Figure size 432x288 with 1 Axes>"
      ]
     },
     "metadata": {
      "needs_background": "light"
     },
     "output_type": "display_data"
    }
   ],
   "source": [
    "# Let's make a boxplot for this column\n",
    "\n",
    "plt.boxplot(df2['stays_in_week_nights'])"
   ]
  },
  {
   "cell_type": "code",
   "execution_count": 136,
   "id": "bccfa55c",
   "metadata": {},
   "outputs": [
    {
     "data": {
      "text/plain": [
       "(31, 30)"
      ]
     },
     "execution_count": 136,
     "metadata": {},
     "output_type": "execute_result"
    }
   ],
   "source": [
    "# Let's check the number of rows containing stays_in_week_nights greater than 20\n",
    "\n",
    "df2[df2['stays_in_week_nights'] > 20].shape"
   ]
  },
  {
   "cell_type": "code",
   "execution_count": 137,
   "id": "4882fa3b",
   "metadata": {},
   "outputs": [],
   "source": [
    "# Save index of all rows containing stays_in_week_nights greater than 20\n",
    "\n",
    "index_week_outlier = df2[df2['stays_in_week_nights'] > 20].index"
   ]
  },
  {
   "cell_type": "code",
   "execution_count": 138,
   "id": "423bc703",
   "metadata": {},
   "outputs": [],
   "source": [
    "# Drop rows containing stays_in_week_nights greater than 20\n",
    "\n",
    "df2.drop(index_week_outlier, inplace = True)"
   ]
  },
  {
   "cell_type": "code",
   "execution_count": 139,
   "id": "5f924838",
   "metadata": {},
   "outputs": [
    {
     "data": {
      "text/plain": [
       "(0, 30)"
      ]
     },
     "execution_count": 139,
     "metadata": {},
     "output_type": "execute_result"
    }
   ],
   "source": [
    "df2[df2['stays_in_week_nights'] > 20].shape"
   ]
  },
  {
   "cell_type": "code",
   "execution_count": 140,
   "id": "71693b14",
   "metadata": {},
   "outputs": [
    {
     "data": {
      "text/plain": [
       "{'whiskers': [<matplotlib.lines.Line2D at 0x1252c307cd0>,\n",
       "  <matplotlib.lines.Line2D at 0x1252c3020a0>],\n",
       " 'caps': [<matplotlib.lines.Line2D at 0x1252c302400>,\n",
       "  <matplotlib.lines.Line2D at 0x1252c302760>],\n",
       " 'boxes': [<matplotlib.lines.Line2D at 0x1252c307970>],\n",
       " 'medians': [<matplotlib.lines.Line2D at 0x1252c302ac0>],\n",
       " 'fliers': [<matplotlib.lines.Line2D at 0x1252c302e20>],\n",
       " 'means': []}"
      ]
     },
     "execution_count": 140,
     "metadata": {},
     "output_type": "execute_result"
    },
    {
     "data": {
      "image/png": "[encoded data removed]",
      "text/plain": [
       "<Figure size 432x288 with 1 Axes>"
      ]
     },
     "metadata": {
      "needs_background": "light"
     },
     "output_type": "display_data"
    }
   ],
   "source": [
    "plt.boxplot(df2['stays_in_week_nights'])"
   ]
  },
  {
   "cell_type": "markdown",
   "id": "7cb295d2",
   "metadata": {},
   "source": [
    "### column 'adults'\n",
    "\n",
    "Few bookings have number of adults as high as 55. This is not a practical scenario and such entries can be dropped.\n",
    "\n",
    "In a practical scenario, more than 4 adults cannot stay in a room"
   ]
  },
  {
   "cell_type": "code",
   "execution_count": 141,
   "id": "072bff75",
   "metadata": {},
   "outputs": [
    {
     "data": {
      "text/plain": [
       "(16, 30)"
      ]
     },
     "execution_count": 141,
     "metadata": {},
     "output_type": "execute_result"
    }
   ],
   "source": [
    "# Let's check the number of bookings with more than 4 adults\n",
    "\n",
    "df2[df2['adults'] > 4].shape"
   ]
  },
  {
   "cell_type": "code",
   "execution_count": 142,
   "id": "35275e2a",
   "metadata": {},
   "outputs": [],
   "source": [
    "# Save index of all rows containing adults greater than 4\n",
    "\n",
    "index_adult_outlier = df2[df2['adults'] > 4].index"
   ]
  },
  {
   "cell_type": "code",
   "execution_count": 143,
   "id": "f9195598",
   "metadata": {},
   "outputs": [],
   "source": [
    "# Drop rows containing adults greater than 4\n",
    "\n",
    "df2.drop(index_adult_outlier, inplace = True)\n"
   ]
  },
  {
   "cell_type": "code",
   "execution_count": 144,
   "id": "fc3dd15c",
   "metadata": {},
   "outputs": [
    {
     "data": {
      "text/plain": [
       "2    89469\n",
       "1    22719\n",
       "3     6196\n",
       "0      390\n",
       "4       62\n",
       "Name: adults, dtype: int64"
      ]
     },
     "execution_count": 144,
     "metadata": {},
     "output_type": "execute_result"
    }
   ],
   "source": [
    "df2['adults'].value_counts()"
   ]
  },
  {
   "cell_type": "markdown",
   "id": "394602f2",
   "metadata": {},
   "source": [
    "### column 'children'\n",
    "\n",
    "Some reservations have 10 number of children. Not a practical scenario in my opinion.\n",
    "\n",
    "I would choose to drop such entries"
   ]
  },
  {
   "cell_type": "code",
   "execution_count": 145,
   "id": "b0dc92c6",
   "metadata": {},
   "outputs": [
    {
     "data": {
      "text/plain": [
       "(1, 30)"
      ]
     },
     "execution_count": 145,
     "metadata": {},
     "output_type": "execute_result"
    }
   ],
   "source": [
    "# Let's check the number of bookings with more than 3 children\n",
    "\n",
    "df2[df2['children'] > 3].shape"
   ]
  },
  {
   "cell_type": "code",
   "execution_count": 147,
   "id": "2a9bece5",
   "metadata": {},
   "outputs": [],
   "source": [
    "# Save index of all rows containing children greater than 3\n",
    "\n",
    "index_children_outlier = df2[df2['children'] > 3].index"
   ]
  },
  {
   "cell_type": "code",
   "execution_count": 148,
   "id": "b251c3e6",
   "metadata": {},
   "outputs": [],
   "source": [
    "# Drop rows containing children greater than 3\n",
    "\n",
    "df2.drop(index_children_outlier, inplace = True)"
   ]
  },
  {
   "cell_type": "code",
   "execution_count": 149,
   "id": "0022eb76",
   "metadata": {},
   "outputs": [
    {
     "name": "stderr",
     "output_type": "stream",
     "text": [
      "C:\\Users\\majid\\Anaconda3\\lib\\site-packages\\seaborn\\distributions.py:2557: FutureWarning: `distplot` is a deprecated function and will be removed in a future version. Please adapt your code to use either `displot` (a figure-level function with similar flexibility) or `histplot` (an axes-level function for histograms).\n",
      "  warnings.warn(msg, FutureWarning)\n"
     ]
    },
    {
     "data": {
      "image/png": "[encoded data removed]",
      "text/plain": [
       "<Figure size 432x288 with 1 Axes>"
      ]
     },
     "metadata": {
      "needs_background": "light"
     },
     "output_type": "display_data"
    }
   ],
   "source": [
    "sns.distplot(df2['children'], label = 'children')\n",
    "plt.show()"
   ]
  },
  {
   "cell_type": "markdown",
   "id": "24193757",
   "metadata": {},
   "source": [
    "### column 'babies'\n",
    "\n",
    "Similar to children column, this column also has certain outliers that need to be removed"
   ]
  },
  {
   "cell_type": "code",
   "execution_count": 150,
   "id": "032373c8",
   "metadata": {},
   "outputs": [
    {
     "data": {
      "text/plain": [
       "(2, 30)"
      ]
     },
     "execution_count": 150,
     "metadata": {},
     "output_type": "execute_result"
    }
   ],
   "source": [
    "# Let's check the number of bookings with more than or equal to 3 babies\n",
    "\n",
    "df2[df2['babies'] >= 3].shape"
   ]
  },
  {
   "cell_type": "code",
   "execution_count": 151,
   "id": "e5494a91",
   "metadata": {},
   "outputs": [],
   "source": [
    "# Save index of all rows containing babies greater than or equal to 3\n",
    "\n",
    "index_babies_outlier = df2[df2['babies'] >= 3].index\n",
    "\n",
    "# Drop rows containing babies greater than or equal to 3\n",
    "\n",
    "df2.drop(index_babies_outlier, inplace = True)"
   ]
  },
  {
   "cell_type": "markdown",
   "id": "ff899e7a",
   "metadata": {},
   "source": [
    "### column 'previous_cancellations'\n",
    "\n",
    "Some reservations have as high as 26 previous cancellation records.\n",
    "\n",
    "Majority reservations have less than 2 previous cancellation records"
   ]
  },
  {
   "cell_type": "code",
   "execution_count": 152,
   "id": "3cfa3fd8",
   "metadata": {},
   "outputs": [
    {
     "data": {
      "text/plain": [
       "(180, 30)"
      ]
     },
     "execution_count": 152,
     "metadata": {},
     "output_type": "execute_result"
    }
   ],
   "source": [
    "# Let's check the number of bookings with more than 10 previous cancellations\n",
    "\n",
    "df2[df2['previous_cancellations'] > 10].shape"
   ]
  },
  {
   "cell_type": "code",
   "execution_count": 153,
   "id": "9e8dc84e",
   "metadata": {},
   "outputs": [],
   "source": [
    "# Save index of all rows containing previous_cancellations greater than10\n",
    "\n",
    "index_previous_cancellations_outlier = df2[df2['previous_cancellations'] > 10].index"
   ]
  },
  {
   "cell_type": "code",
   "execution_count": 154,
   "id": "6ba4b4a0",
   "metadata": {},
   "outputs": [],
   "source": [
    "# Drop rows containing babies greater than 10\n",
    "\n",
    "df2.drop(index_previous_cancellations_outlier, inplace = True)"
   ]
  },
  {
   "cell_type": "code",
   "execution_count": 155,
   "id": "3ace5f3c",
   "metadata": {},
   "outputs": [
    {
     "data": {
      "text/plain": [
       "0    112388\n",
       "1      6015\n",
       "2       113\n",
       "3        65\n",
       "4        31\n",
       "6        22\n",
       "5        19\n",
       "Name: previous_cancellations, dtype: int64"
      ]
     },
     "execution_count": 155,
     "metadata": {},
     "output_type": "execute_result"
    }
   ],
   "source": [
    "df2['previous_cancellations'].value_counts()"
   ]
  },
  {
   "cell_type": "markdown",
   "id": "2698d9be",
   "metadata": {},
   "source": [
    "### column 'previous_bookings_not_canceled'\n",
    "\n",
    "Majority people had less than 2 previous_bookings_not_canceled"
   ]
  },
  {
   "cell_type": "code",
   "execution_count": 156,
   "id": "fea9c0ba",
   "metadata": {},
   "outputs": [
    {
     "data": {
      "text/plain": [
       "(79, 30)"
      ]
     },
     "execution_count": 156,
     "metadata": {},
     "output_type": "execute_result"
    }
   ],
   "source": [
    "# Let's check the number of bookings with more than 25 previous_bookings_not_canceled\n",
    "\n",
    "df2[df2['previous_bookings_not_canceled'] > 25].shape"
   ]
  },
  {
   "cell_type": "code",
   "execution_count": 157,
   "id": "6756e393",
   "metadata": {},
   "outputs": [],
   "source": [
    "# Save index of all rows containing previous_bookings_not_canceled greater than 25\n",
    "\n",
    "index_previous_bookings_not_canceled_outlier = df2[df2['previous_bookings_not_canceled'] > 25].index"
   ]
  },
  {
   "cell_type": "code",
   "execution_count": 158,
   "id": "d3494a45",
   "metadata": {},
   "outputs": [],
   "source": [
    "# Drop rows containing previous_bookings_not_canceled greater than 25\n",
    "\n",
    "df2.drop(index_previous_bookings_not_canceled_outlier, inplace = True)"
   ]
  },
  {
   "cell_type": "code",
   "execution_count": 159,
   "id": "5c428c73",
   "metadata": {},
   "outputs": [
    {
     "data": {
      "text/plain": [
       "0     115300\n",
       "1       1439\n",
       "2        535\n",
       "3        301\n",
       "4        201\n",
       "5        165\n",
       "6        111\n",
       "7         84\n",
       "8         67\n",
       "9         57\n",
       "10        49\n",
       "11        41\n",
       "12        37\n",
       "13        30\n",
       "14        28\n",
       "15        21\n",
       "16        18\n",
       "17        15\n",
       "18        12\n",
       "19        12\n",
       "21        11\n",
       "20        10\n",
       "24         9\n",
       "25         9\n",
       "22         6\n",
       "23         6\n",
       "Name: previous_bookings_not_canceled, dtype: int64"
      ]
     },
     "execution_count": 159,
     "metadata": {},
     "output_type": "execute_result"
    }
   ],
   "source": [
    "df2['previous_bookings_not_canceled'].value_counts()"
   ]
  },
  {
   "cell_type": "markdown",
   "id": "181dab8b",
   "metadata": {},
   "source": [
    "### column 'booking_changes'"
   ]
  },
  {
   "cell_type": "code",
   "execution_count": 160,
   "id": "2621395e",
   "metadata": {},
   "outputs": [
    {
     "data": {
      "text/plain": [
       "(19, 30)"
      ]
     },
     "execution_count": 160,
     "metadata": {},
     "output_type": "execute_result"
    }
   ],
   "source": [
    "# Let's check the number of bookings with more than 10 booking_changes\n",
    "\n",
    "df2[df2['booking_changes'] > 10].shape"
   ]
  },
  {
   "cell_type": "code",
   "execution_count": 161,
   "id": "cd5b30d6",
   "metadata": {},
   "outputs": [],
   "source": [
    "# Save index of all rows containing booking_changes greater than 10\n",
    "\n",
    "index_booking_changes_outlier = df2[df2['booking_changes'] > 10].index"
   ]
  },
  {
   "cell_type": "code",
   "execution_count": 162,
   "id": "1a6afce3",
   "metadata": {},
   "outputs": [],
   "source": [
    "# Drop rows containing booking_changes greater than 10\n",
    "\n",
    "df2.drop(index_booking_changes_outlier, inplace = True)"
   ]
  },
  {
   "cell_type": "code",
   "execution_count": 163,
   "id": "b9a2132e",
   "metadata": {},
   "outputs": [
    {
     "name": "stderr",
     "output_type": "stream",
     "text": [
      "C:\\Users\\majid\\Anaconda3\\lib\\site-packages\\seaborn\\distributions.py:2557: FutureWarning: `distplot` is a deprecated function and will be removed in a future version. Please adapt your code to use either `displot` (a figure-level function with similar flexibility) or `histplot` (an axes-level function for histograms).\n",
      "  warnings.warn(msg, FutureWarning)\n"
     ]
    },
    {
     "data": {
      "image/png": "[encoded data removed]",
      "text/plain": [
       "<Figure size 432x288 with 1 Axes>"
      ]
     },
     "metadata": {
      "needs_background": "light"
     },
     "output_type": "display_data"
    }
   ],
   "source": [
    "sns.distplot(df2['booking_changes'], label = 'booking_changes')\n",
    "plt.show()"
   ]
  },
  {
   "cell_type": "markdown",
   "id": "6511f82b",
   "metadata": {},
   "source": [
    "### column 'days_in_waiting_list'"
   ]
  },
  {
   "cell_type": "code",
   "execution_count": 164,
   "id": "5b75a96a",
   "metadata": {},
   "outputs": [
    {
     "data": {
      "text/plain": [
       "(85, 30)"
      ]
     },
     "execution_count": 164,
     "metadata": {},
     "output_type": "execute_result"
    }
   ],
   "source": [
    "# Let's check the number of bookings with more than 250 days_in_waiting_list\n",
    "\n",
    "df2[df2['days_in_waiting_list'] > 250].shape"
   ]
  },
  {
   "cell_type": "code",
   "execution_count": 165,
   "id": "ffebae6f",
   "metadata": {},
   "outputs": [],
   "source": [
    "# Save index of all rows containing days_in_waiting_list greater than 250\n",
    "\n",
    "index_days_in_waiting_list_outlier = df2[df2['days_in_waiting_list'] > 250].index"
   ]
  },
  {
   "cell_type": "code",
   "execution_count": 166,
   "id": "72f6fab0",
   "metadata": {},
   "outputs": [],
   "source": [
    "# Drop rows containing days_in_waiting_list greater than 250\n",
    "\n",
    "df2.drop(index_days_in_waiting_list_outlier, inplace = True)"
   ]
  },
  {
   "cell_type": "code",
   "execution_count": 167,
   "id": "7c45e13f",
   "metadata": {},
   "outputs": [
    {
     "name": "stderr",
     "output_type": "stream",
     "text": [
      "C:\\Users\\majid\\Anaconda3\\lib\\site-packages\\seaborn\\distributions.py:2557: FutureWarning: `distplot` is a deprecated function and will be removed in a future version. Please adapt your code to use either `displot` (a figure-level function with similar flexibility) or `histplot` (an axes-level function for histograms).\n",
      "  warnings.warn(msg, FutureWarning)\n"
     ]
    },
    {
     "data": {
      "image/png": "[encoded data removed]",
      "text/plain": [
       "<Figure size 432x288 with 1 Axes>"
      ]
     },
     "metadata": {
      "needs_background": "light"
     },
     "output_type": "display_data"
    }
   ],
   "source": [
    "sns.distplot(df2['days_in_waiting_list'], label = 'days_in_waiting_list')\n",
    "plt.show()"
   ]
  },
  {
   "cell_type": "markdown",
   "id": "21bb56aa",
   "metadata": {},
   "source": [
    "### column 'required_car_parking_spaces'"
   ]
  },
  {
   "cell_type": "code",
   "execution_count": 168,
   "id": "48bf9a88",
   "metadata": {},
   "outputs": [
    {
     "data": {
      "text/plain": [
       "(32, 30)"
      ]
     },
     "execution_count": 168,
     "metadata": {},
     "output_type": "execute_result"
    }
   ],
   "source": [
    "# Let's check the number of bookings with more than 1 required_car_parking_spaces\n",
    "\n",
    "df2[df2['required_car_parking_spaces'] > 1].shape"
   ]
  },
  {
   "cell_type": "code",
   "execution_count": 169,
   "id": "6973f08c",
   "metadata": {},
   "outputs": [],
   "source": [
    "# Save index of all rows containing required_car_parking_spaces greater than 1\n",
    "\n",
    "index_required_car_parking_spaces_outlier = df2[df2['required_car_parking_spaces'] > 1].index"
   ]
  },
  {
   "cell_type": "code",
   "execution_count": 170,
   "id": "95a360c7",
   "metadata": {},
   "outputs": [],
   "source": [
    "# Drop rows containing required_car_parking_spaces greater than 1\n",
    "\n",
    "df2.drop(index_required_car_parking_spaces_outlier, inplace = True)\n"
   ]
  },
  {
   "cell_type": "code",
   "execution_count": 171,
   "id": "120dee1b",
   "metadata": {},
   "outputs": [
    {
     "name": "stderr",
     "output_type": "stream",
     "text": [
      "C:\\Users\\majid\\Anaconda3\\lib\\site-packages\\seaborn\\distributions.py:2557: FutureWarning: `distplot` is a deprecated function and will be removed in a future version. Please adapt your code to use either `displot` (a figure-level function with similar flexibility) or `histplot` (an axes-level function for histograms).\n",
      "  warnings.warn(msg, FutureWarning)\n"
     ]
    },
    {
     "data": {
      "image/png": "[encoded data removed]",
      "text/plain": [
       "<Figure size 432x288 with 1 Axes>"
      ]
     },
     "metadata": {
      "needs_background": "light"
     },
     "output_type": "display_data"
    }
   ],
   "source": [
    "sns.distplot(df2['required_car_parking_spaces'], label = 'required_car_parking_spaces')\n",
    "plt.show()"
   ]
  },
  {
   "cell_type": "markdown",
   "id": "a82d6da4",
   "metadata": {},
   "source": [
    "### Final Check"
   ]
  },
  {
   "cell_type": "code",
   "execution_count": 172,
   "id": "0dc8741b",
   "metadata": {},
   "outputs": [
    {
     "data": {
      "text/plain": [
       "(118438, 30)"
      ]
     },
     "execution_count": 172,
     "metadata": {},
     "output_type": "execute_result"
    }
   ],
   "source": [
    "df2.shape"
   ]
  }
 ],
 "metadata": {
  "kernelspec": {
   "display_name": "Python 3",
   "language": "python",
   "name": "python3"
  },
  "language_info": {
   "codemirror_mode": {
    "name": "ipython",
    "version": 3
   },
   "file_extension": ".py",
   "mimetype": "text/x-python",
   "name": "python",
   "nbconvert_exporter": "python",
   "pygments_lexer": "ipython3",
   "version": "3.8.8"
  }
 },
 "nbformat": 4,
 "nbformat_minor": 5
}
